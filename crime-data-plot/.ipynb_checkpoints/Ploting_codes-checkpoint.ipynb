{
 "cells": [
  {
   "cell_type": "code",
   "execution_count": 4,
   "metadata": {
    "collapsed": true
   },
   "outputs": [],
   "source": [
    "import matplotlib.pyplot as plt"
   ]
  },
  {
   "cell_type": "code",
   "execution_count": 5,
   "metadata": {
    "collapsed": true
   },
   "outputs": [],
   "source": [
    "import numpy as np\n",
    "import pandas as pd"
   ]
  },
  {
   "cell_type": "markdown",
   "metadata": {},
   "source": [
    "Some pandas visualization practices"
   ]
  },
  {
   "cell_type": "markdown",
   "metadata": {},
   "source": [
    "# Group boroughs by level"
   ]
  },
  {
   "cell_type": "code",
   "execution_count": 6,
   "metadata": {
    "collapsed": false
   },
   "outputs": [],
   "source": [
    "#Zhuoru Lin\n",
    "#Convert output to df\n",
    "f = open('../crime-data-process/results/borough_level.out','rb')\n",
    "lines= f.read().strip().decode('utf-8').split('\\n')\n",
    "f.close()\n",
    "pairs = [line.split('\\t') for line in lines]\n",
    "keys = [pair[0].split(',') for pair in pairs]\n",
    "values = [int(pair[1]) for pair in pairs]\n",
    "df = pd.DataFrame([[key[0],key[1],values[i]] for i,key in enumerate(keys)],columns=['area','type','count'])\n",
    "df = df.sort_values(by=['area','type'])\n",
    "df = df.pivot(index='area',columns='type',values='count')"
   ]
  },
  {
   "cell_type": "code",
   "execution_count": 7,
   "metadata": {
    "collapsed": false
   },
   "outputs": [
    {
     "data": {
      "image/png": "[encoded data removed]",
      "text/plain": [
       "<matplotlib.figure.Figure at 0x10d835cc0>"
      ]
     },
     "metadata": {},
     "output_type": "display_data"
    }
   ],
   "source": [
    "df.plot.barh(stacked=True)\n",
    "plt.xlabel\n",
    "plt.show()"
   ]
  },
  {
   "cell_type": "markdown",
   "metadata": {},
   "source": [
    "# Group levels by year"
   ]
  },
  {
   "cell_type": "code",
   "execution_count": 76,
   "metadata": {
    "collapsed": false
   },
   "outputs": [],
   "source": [
    "f = open('../results/group_levels_by_year_all.out','rb')\n",
    "lines= f.read().strip().decode('utf-8').split('\\n')\n",
    "f.close()\n",
    "pairs = [line.split('\\t') for line in lines]\n",
    "keys = [pair[0].split(' ') for pair in pairs]\n",
    "#Add line to remove uncompleted keys\n",
    "keys = [key for key in keys if ke]\n",
    "values = [int(pair[1]) for pair in pairs]"
   ]
  },
  {
   "cell_type": "code",
   "execution_count": 81,
   "metadata": {
    "collapsed": false
   },
   "outputs": [
    {
     "data": {
      "text/plain": [
       "0    FELONY\n",
       "1       220\n",
       "Name: 189, dtype: object"
      ]
     },
     "execution_count": 81,
     "metadata": {},
     "output_type": "execute_result"
    }
   ],
   "source": [
    "#Missing year for line 189\n",
    "pd.DataFrame(pairs).loc[189]"
   ]
  }
 ],
 "metadata": {
  "anaconda-cloud": {},
  "kernelspec": {
   "display_name": "Python [conda env:py35]",
   "language": "python",
   "name": "conda-env-py35-py"
  },
  "language_info": {
   "codemirror_mode": {
    "name": "ipython",
    "version": 3
   },
   "file_extension": ".py",
   "mimetype": "text/x-python",
   "name": "python",
   "nbconvert_exporter": "python",
   "pygments_lexer": "ipython3",
   "version": "3.5.2"
  }
 },
 "nbformat": 4,
 "nbformat_minor": 1
}
