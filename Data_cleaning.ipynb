{
 "cells": [
  {
   "cell_type": "markdown",
   "metadata": {},
   "source": [
    "# Data Quality Accessment"
   ]
  },
  {
   "cell_type": "code",
   "execution_count": 1,
   "metadata": {
    "collapsed": false
   },
   "outputs": [],
   "source": [
    "# Loading crime csv to RDD\n",
    "# Replace with your directory\n",
    "crime_csv = sc.textFile('file:/Users/zhuorulin/Documents/DataScience/datasets/NYPD_Complaint_Data_Historic.csv',use_unicode=False)"
   ]
  },
  {
   "cell_type": "code",
   "execution_count": 35,
   "metadata": {
    "collapsed": false
   },
   "outputs": [],
   "source": [
    "# Convert csv to DataFrame\n",
    "from csv import reader # Warning: csv.reader does not support unicode decode\n",
    "from pyspark.sql import SQLContext\n",
    "from collections import defaultdict\n",
    "import datetime\n",
    "import re\n",
    "import pandas as pd"
   ]
  },
  {
   "cell_type": "code",
   "execution_count": 36,
   "metadata": {
    "collapsed": false
   },
   "outputs": [],
   "source": [
    "# Use csv.reader to read raw binary\n",
    "lines_rdd = crime_csv.mapPartitions(reader)\\\n",
    ".map(lambda line: [x.decode('utf-8') for x in line] )# Decode with utf-8 codec\n",
    "# store columns values. Also a search table for searching column name using index\n",
    "schemas = lines_rdd.take(1)[0]\n",
    "# filter out first row\n",
    "lines = lines_rdd.filter(lambda x: x!=schemas)"
   ]
  },
  {
   "cell_type": "code",
   "execution_count": 253,
   "metadata": {
    "collapsed": false
   },
   "outputs": [
    {
     "name": "stdout",
     "output_type": "stream",
     "text": [
      "3\n"
     ]
    }
   ],
   "source": [
    "# This dict makes it easier to search for column index using column name\n",
    "colname2idx = defaultdict()\n",
    "for idx,colname in enumerate(schemas):\n",
    "    colname2idx[colname] = idx\n",
    "# Example\n",
    "print(colname2idx['CMPLNT_TO_DT'])"
   ]
  },
  {
   "cell_type": "markdown",
   "metadata": {},
   "source": [
    "# Global Null Checking method\n",
    "We used following null checking procedure to check all columns:\n",
    "- Check whether the length of string is zero\n",
    "- Check whether the string is 'nan'"
   ]
  },
  {
   "cell_type": "code",
   "execution_count": 246,
   "metadata": {
    "collapsed": true
   },
   "outputs": [],
   "source": [
    "def checkNull(string):\n",
    "    #Assume Unicode String\n",
    "    # Step 1: Check for length 0 i.e '' field\n",
    "    if len(string.strip())==0:\n",
    "        return 'NULL'\n",
    "    # Step 2: Check for 'nan'\n",
    "    elif string=='nan':\n",
    "        return 'NULL'\n",
    "    else:\n",
    "        return 'VALID'"
   ]
  },
  {
   "cell_type": "code",
   "execution_count": 254,
   "metadata": {
    "collapsed": false
   },
   "outputs": [
    {
     "name": "stdout",
     "output_type": "stream",
     "text": [
      "                       sample_row nullity\n",
      "0                       101109527   VALID\n",
      "1                      12/31/2015   VALID\n",
      "2                        23:45:00   VALID\n",
      "3                                    NULL\n",
      "4                                    NULL\n",
      "5                      12/31/2015   VALID\n",
      "6                             113   VALID\n",
      "7                         FORGERY   VALID\n",
      "8                             729   VALID\n",
      "9  FORGERY,ETC.,UNCLASSIFIED-FELO   VALID\n"
     ]
    }
   ],
   "source": [
    "# Example: Check row\n",
    "NULL_TABLE = lines.map(lambda line:[checkNull(x) for x in line])\n",
    "df_nullrow = pd.DataFrame()\n",
    "df_nullrow['sample_row'] = lines.take(1)[0]\n",
    "df_nullrow['nullity'] = NULL_TABLE.take(1)[0]\n",
    "print df_nullrow.head(10)"
   ]
  },
  {
   "cell_type": "markdown",
   "metadata": {},
   "source": [
    "# Date Format Checking Method\n",
    "Format Reference: http://strftime.org/\n",
    "\n",
    "We use python datetime module to check whether date column is of the correct date format.\n",
    "\n",
    "- If a string is of the wrong format datetime.datetime.strptime() raises error.\n",
    "- If a year is earlier than 2005 we also consider it to be invalid because this table is designed to be the crime statistics from 2005 to 2015"
   ]
  },
  {
   "cell_type": "code",
   "execution_count": 25,
   "metadata": {
    "collapsed": false
   },
   "outputs": [
    {
     "ename": "ValueError",
     "evalue": "time data '13/09/1992' does not match format '%m/%d/%Y'",
     "output_type": "error",
     "traceback": [
      "\u001b[0;31m---------------------------------------------------------------------------\u001b[0m",
      "\u001b[0;31mValueError\u001b[0m                                Traceback (most recent call last)",
      "\u001b[0;32m<ipython-input-25-c9f73d949a4a>\u001b[0m in \u001b[0;36m<module>\u001b[0;34m()\u001b[0m\n\u001b[1;32m      2\u001b[0m \u001b[0mdate_format\u001b[0m \u001b[0;34m=\u001b[0m \u001b[0;34m'%m/%d/%Y'\u001b[0m\u001b[0;34m\u001b[0m\u001b[0m\n\u001b[1;32m      3\u001b[0m \u001b[0mtestdate\u001b[0m \u001b[0;34m=\u001b[0m \u001b[0;34m'13/09/1992'\u001b[0m\u001b[0;34m\u001b[0m\u001b[0m\n\u001b[0;32m----> 4\u001b[0;31m \u001b[0mtestdate\u001b[0m \u001b[0;34m=\u001b[0m \u001b[0mdatetime\u001b[0m\u001b[0;34m.\u001b[0m\u001b[0mdatetime\u001b[0m\u001b[0;34m.\u001b[0m\u001b[0mstrptime\u001b[0m\u001b[0;34m(\u001b[0m\u001b[0mtestdate\u001b[0m\u001b[0;34m,\u001b[0m\u001b[0mdate_format\u001b[0m\u001b[0;34m)\u001b[0m\u001b[0;34m\u001b[0m\u001b[0m\n\u001b[0m",
      "\u001b[0;32m/Users/zhuorulin/anaconda/lib/python2.7/_strptime.pyc\u001b[0m in \u001b[0;36m_strptime\u001b[0;34m(data_string, format)\u001b[0m\n\u001b[1;32m    330\u001b[0m     \u001b[0;32mif\u001b[0m \u001b[0;32mnot\u001b[0m \u001b[0mfound\u001b[0m\u001b[0;34m:\u001b[0m\u001b[0;34m\u001b[0m\u001b[0m\n\u001b[1;32m    331\u001b[0m         raise ValueError(\"time data %r does not match format %r\" %\n\u001b[0;32m--> 332\u001b[0;31m                          (data_string, format))\n\u001b[0m\u001b[1;32m    333\u001b[0m     \u001b[0;32mif\u001b[0m \u001b[0mlen\u001b[0m\u001b[0;34m(\u001b[0m\u001b[0mdata_string\u001b[0m\u001b[0;34m)\u001b[0m \u001b[0;34m!=\u001b[0m \u001b[0mfound\u001b[0m\u001b[0;34m.\u001b[0m\u001b[0mend\u001b[0m\u001b[0;34m(\u001b[0m\u001b[0;34m)\u001b[0m\u001b[0;34m:\u001b[0m\u001b[0;34m\u001b[0m\u001b[0m\n\u001b[1;32m    334\u001b[0m         raise ValueError(\"unconverted data remains: %s\" %\n",
      "\u001b[0;31mValueError\u001b[0m: time data '13/09/1992' does not match format '%m/%d/%Y'"
     ]
    }
   ],
   "source": [
    "# Example of error\n",
    "date_format = '%m/%d/%Y'\n",
    "testdate = '13/09/1992'\n",
    "testdate = datetime.datetime.strptime(testdate,date_format)"
   ]
  },
  {
   "cell_type": "code",
   "execution_count": 161,
   "metadata": {
    "collapsed": false
   },
   "outputs": [],
   "source": [
    "date_format = '%m/%d/%Y'\n",
    "time_format = '%H:%M:%S'\n",
    "# If date is in wrong format it would not be sucessfully converted to datetime object.\n",
    "def checkDate(line,date_format=date_format):\n",
    "    if checkNull(line)=='VALID':\n",
    "        try:\n",
    "            date = datetime.datetime.strptime(line,date_format)\n",
    "            if (date.year <=2015)&(date.year>=2005):\n",
    "                return 'VALID'\n",
    "            else:\n",
    "                return 'INVALID'\n",
    "        except:\n",
    "            return 'INVALID'\n",
    "    else:\n",
    "        return 'NULL'\n",
    "def checkTime(line,time_format=time_format):\n",
    "    if checkNull(line)=='VALID':\n",
    "        try:\n",
    "            datetime.datetime.strptime(line,time_format)\n",
    "            return 'VALID'\n",
    "        except:\n",
    "            return 'INVALID'\n",
    "    else:\n",
    "        return 'NULL'\n",
    "########################################"
   ]
  },
  {
   "cell_type": "code",
   "execution_count": 252,
   "metadata": {
    "collapsed": false
   },
   "outputs": [
    {
     "data": {
      "text/plain": [
       "'INVALID'"
      ]
     },
     "execution_count": 252,
     "metadata": {},
     "output_type": "execute_result"
    }
   ],
   "source": [
    "checkDate('10/09/1015')"
   ]
  },
  {
   "cell_type": "markdown",
   "metadata": {},
   "source": [
    "### Data Quality Issue\n",
    "We observe over 19000 invalid date from CMPLNT_FR_DT."
   ]
  },
  {
   "cell_type": "code",
   "execution_count": 27,
   "metadata": {
    "collapsed": false
   },
   "outputs": [
    {
     "data": {
      "text/plain": [
       "defaultdict(int, {'INVALID': 8670, 'VALID': 5092561})"
      ]
     },
     "execution_count": 27,
     "metadata": {},
     "output_type": "execute_result"
    }
   ],
   "source": [
    "# Testing Check Date Method\n",
    "CMPLNT_FR_DT.countByValue()"
   ]
  },
  {
   "cell_type": "markdown",
   "metadata": {},
   "source": [
    "# Regular Expression Checking Method\n",
    "Regular Expression Reference: https://docs.python.org/2/library/re.html"
   ]
  },
  {
   "cell_type": "code",
   "execution_count": 7,
   "metadata": {
    "collapsed": false
   },
   "outputs": [],
   "source": [
    "# Example Checking KY_CD 3-digit code\n",
    "regex_3_digits = '^\\d{3}$'"
   ]
  },
  {
   "cell_type": "code",
   "execution_count": 41,
   "metadata": {
    "collapsed": true
   },
   "outputs": [],
   "source": [
    "#Require re package\n",
    "def checkRegex(line,regex):\n",
    "    # Input\n",
    "    # line: a string for check\n",
    "    # regex: regular expression pattern\n",
    "    match = re.match(regex,line)\n",
    "    if match:\n",
    "        return 'VALID'\n",
    "    else:\n",
    "        return 'INVALID'"
   ]
  },
  {
   "cell_type": "code",
   "execution_count": 12,
   "metadata": {
    "collapsed": false
   },
   "outputs": [
    {
     "name": "stdout",
     "output_type": "stream",
     "text": [
      "INVALID\n",
      "VALID\n"
     ]
    }
   ],
   "source": [
    "# Show that it actually work\n",
    "print checkRegex('1234',regex_3_digits)\n",
    "print checkRegex('123',regex_3_digits)"
   ]
  },
  {
   "cell_type": "markdown",
   "metadata": {},
   "source": [
    "# Data validity checking for each columns"
   ]
  },
  {
   "cell_type": "markdown",
   "metadata": {},
   "source": [
    "# CMPLNT_NUM\n",
    "- check nullity\n",
    "- check duplicate"
   ]
  },
  {
   "cell_type": "code",
   "execution_count": 193,
   "metadata": {
    "collapsed": false
   },
   "outputs": [],
   "source": [
    "duplicate_check = lines.map(lambda x:x[colname2idx['CMPLNT_NUM']]).map(lambda x: (x,1)).reduceByKey(lambda x,y:x+y)"
   ]
  },
  {
   "cell_type": "code",
   "execution_count": 195,
   "metadata": {
    "collapsed": false
   },
   "outputs": [
    {
     "data": {
      "text/plain": [
       "[]"
      ]
     },
     "execution_count": 195,
     "metadata": {},
     "output_type": "execute_result"
    }
   ],
   "source": [
    "#No duplication\n",
    "duplicate_check.filter(lambda x: x[1]>1).collect()"
   ]
  },
  {
   "cell_type": "code",
   "execution_count": 211,
   "metadata": {
    "collapsed": false
   },
   "outputs": [
    {
     "data": {
      "text/plain": [
       "defaultdict(int, {'VALID': 5101231})"
      ]
     },
     "execution_count": 211,
     "metadata": {},
     "output_type": "execute_result"
    }
   ],
   "source": [
    "# check nullity\n",
    "lines.map(lambda x:x[colname2idx['CMPLNT_NUM']]).map(checkNull).countByValue()"
   ]
  },
  {
   "cell_type": "markdown",
   "metadata": {},
   "source": [
    "## Numerical Variables\n",
    "### Latitude/Longitude\n",
    "- check Nullity\n",
    "- check whether string can be converted to float\n",
    "- check whether latitude and longitude is in the range of new york city. (Latitude in [40.48, 40.9] and Longitude in [-74.3, -73.6]) \n",
    "\n",
    "Functions use to check longitude and latitude are stored in utilities.py."
   ]
  },
  {
   "cell_type": "code",
   "execution_count": 255,
   "metadata": {
    "collapsed": true
   },
   "outputs": [],
   "source": [
    "%run ./crime-data-process/code/utilities.py"
   ]
  },
  {
   "cell_type": "code",
   "execution_count": 256,
   "metadata": {
    "collapsed": false
   },
   "outputs": [],
   "source": [
    "Latitude = lines.map(lambda x: x[colname2idx['Latitude']])\n",
    "checkResults_Latitude = Latitude.map(checkLatitude)"
   ]
  },
  {
   "cell_type": "code",
   "execution_count": 257,
   "metadata": {
    "collapsed": false
   },
   "outputs": [
    {
     "data": {
      "text/plain": [
       "defaultdict(int, {'INVALID': 11251, 'NULL': 188146, 'VALID': 4901834})"
      ]
     },
     "execution_count": 257,
     "metadata": {},
     "output_type": "execute_result"
    }
   ],
   "source": [
    "checkResults_Latitude.countByValue()"
   ]
  },
  {
   "cell_type": "code",
   "execution_count": 258,
   "metadata": {
    "collapsed": false
   },
   "outputs": [
    {
     "data": {
      "text/plain": [
       "defaultdict(int, {'NULL': 188146, 'VALID': 4913085})"
      ]
     },
     "execution_count": 258,
     "metadata": {},
     "output_type": "execute_result"
    }
   ],
   "source": [
    "Longitude = lines.map(lambda x: x[colname2idx['Longitude']])\n",
    "checkResults_Longitude = Longitude.map(checkLongitude)\n",
    "checkResults_Longitude.countByValue()"
   ]
  },
  {
   "cell_type": "markdown",
   "metadata": {},
   "source": [
    "# X_COORD_CD/Y_COORD_CD"
   ]
  },
  {
   "cell_type": "markdown",
   "metadata": {},
   "source": [
    "- Check Nullity only"
   ]
  },
  {
   "cell_type": "code",
   "execution_count": 251,
   "metadata": {
    "collapsed": false
   },
   "outputs": [
    {
     "data": {
      "text/plain": [
       "defaultdict(int, {'NULL': 188146, 'VALID': 4913085})"
      ]
     },
     "execution_count": 251,
     "metadata": {},
     "output_type": "execute_result"
    }
   ],
   "source": [
    "X_COORD_CD = lines.map(lambda x: x[colname2idx['X_COORD_CD']])\n",
    "X_COORD_CD.map(checkNull).countByValue()"
   ]
  },
  {
   "cell_type": "markdown",
   "metadata": {},
   "source": [
    "## Date Variables"
   ]
  },
  {
   "cell_type": "markdown",
   "metadata": {},
   "source": [
    "### CMPLNT_FR_DT, CMPLNT_FR_TM, CMPLNT_TO_DT and CMPLNT_TO_TM\n",
    "- Check Nullity of from\n",
    "- Check date format using checkDate() in utilities.py\n",
    "- Comebine date and time to form two datetime object(from and to) for each row.\n",
    "- Check whether 'from' is earilier than 'to'"
   ]
  },
  {
   "cell_type": "code",
   "execution_count": 28,
   "metadata": {
    "collapsed": false
   },
   "outputs": [],
   "source": [
    "%run ./crime-data-process/code/utilities.py"
   ]
  },
  {
   "cell_type": "code",
   "execution_count": 29,
   "metadata": {
    "collapsed": false
   },
   "outputs": [
    {
     "data": {
      "text/plain": [
       "'%m/%d/%Y %H:%M:%S'"
      ]
     },
     "execution_count": 29,
     "metadata": {},
     "output_type": "execute_result"
    }
   ],
   "source": [
    "datetime_format = date_format+' '+time_format\n",
    "datetime_format"
   ]
  },
  {
   "cell_type": "code",
   "execution_count": 171,
   "metadata": {
    "collapsed": false
   },
   "outputs": [
    {
     "data": {
      "text/plain": [
       "[0, 0, 3, 4]"
      ]
     },
     "execution_count": 171,
     "metadata": {},
     "output_type": "execute_result"
    }
   ],
   "source": [
    "alist = [1,2,3,4]\n",
    "alist[:2] = [0,0]\n",
    "alist"
   ]
  },
  {
   "cell_type": "code",
   "execution_count": 176,
   "metadata": {
    "collapsed": false
   },
   "outputs": [],
   "source": [
    "# Implementation\n",
    "# check_CMPLNT_TO check both CMPLNT_TO_DT and CMPLNT_TO_TM at the same time\n",
    "# It return the validity of both field\n",
    "def check_FR_TO(from_date,from_time,to_date,to_time,date_format,time_format):\n",
    "    ###########\n",
    "    #Null check\n",
    "    ###########\n",
    "    individual_checks = [checkDate(from_date),checkTime(from_time),checkDate(to_date),checkTime(to_time)]\n",
    "    if 'NULL' in individual_checks:\n",
    "        return individual_checks\n",
    "#         if 'NULL' in individual_checks[:2]:\n",
    "#             individual_checks = ['NULL','NULL','NULL','NULL']\n",
    "#             return individual_checks\n",
    "#         if 'NULL' in individual_checks[2:4]:\n",
    "#             return individual_checks\n",
    "    #Check for invalidity\n",
    "    #If any field format is invalid return individual check\n",
    "    elif 'INVALID' in individual_checks:\n",
    "        return individual_checks\n",
    "    else:\n",
    "        #ALL VALID for individual check\n",
    "        ###Start combining\n",
    "        #Define datetime format\n",
    "        datetime_format = date_format+' '+time_format\n",
    "        from_datetime = datetime.datetime.strptime(from_date+' '+from_time,datetime_format)\n",
    "        to_datetime = datetime.datetime.strptime(from_date+' '+from_time,datetime_format)\n",
    "        if from_datetime>to_datetime:\n",
    "            return ['VALID','VALID','INVALID','INVALID'] \n",
    "        else:\n",
    "            return individual_checks"
   ]
  },
  {
   "cell_type": "code",
   "execution_count": 177,
   "metadata": {
    "collapsed": false
   },
   "outputs": [
    {
     "name": "stdout",
     "output_type": "stream",
     "text": [
      "INVALID,VALID,INVALID,VALID\n",
      "['NULL', 'NULL', 'INVALID', 'VALID']\n",
      "['INVALID', 'VALID', 'NULL', 'NULL']\n"
     ]
    }
   ],
   "source": [
    "# Testing\n",
    "print ','.join(check_FR_TO('10/09/1992','12:00:00','10/09/1991','12:00:00',date_format,time_format))\n",
    "print check_FR_TO('','','10/09/1991','12:00:00',date_format,time_format)\n",
    "print check_FR_TO('10/09/1991','12:00:00','','',date_format,time_format)"
   ]
  },
  {
   "cell_type": "code",
   "execution_count": 178,
   "metadata": {
    "collapsed": false
   },
   "outputs": [],
   "source": [
    "from_to_tuple = lines.map(lambda x:x[1:5])\n",
    "checkResults_from_to = from_to_tuple.map(lambda x: check_FR_TO(x[0],x[1],x[2],x[3],date_format,time_format))\\\n",
    ".map(lambda x: ','.join(x))"
   ]
  },
  {
   "cell_type": "code",
   "execution_count": 179,
   "metadata": {
    "collapsed": false
   },
   "outputs": [
    {
     "data": {
      "text/plain": [
       "defaultdict(int,\n",
       "            {'INVALID,INVALID,INVALID,INVALID': 2,\n",
       "             'INVALID,INVALID,INVALID,VALID': 3,\n",
       "             'INVALID,INVALID,NULL,NULL': 1,\n",
       "             'INVALID,INVALID,VALID,INVALID': 5,\n",
       "             'INVALID,INVALID,VALID,VALID': 8,\n",
       "             'INVALID,VALID,INVALID,INVALID': 42,\n",
       "             'INVALID,VALID,INVALID,NULL': 1,\n",
       "             'INVALID,VALID,INVALID,VALID': 1696,\n",
       "             'INVALID,VALID,NULL,NULL': 1920,\n",
       "             'INVALID,VALID,NULL,VALID': 16,\n",
       "             'INVALID,VALID,VALID,INVALID': 32,\n",
       "             'INVALID,VALID,VALID,NULL': 2,\n",
       "             'INVALID,VALID,VALID,VALID': 4287,\n",
       "             'NULL,INVALID,VALID,VALID': 1,\n",
       "             'NULL,NULL,NULL,NULL': 1,\n",
       "             'NULL,VALID,INVALID,INVALID': 1,\n",
       "             'NULL,VALID,INVALID,VALID': 1,\n",
       "             'NULL,VALID,NULL,NULL': 137,\n",
       "             'NULL,VALID,NULL,VALID': 9,\n",
       "             'NULL,VALID,VALID,INVALID': 2,\n",
       "             'NULL,VALID,VALID,VALID': 503,\n",
       "             'VALID,INVALID,NULL,NULL': 260,\n",
       "             'VALID,INVALID,NULL,VALID': 1,\n",
       "             'VALID,INVALID,VALID,INVALID': 87,\n",
       "             'VALID,INVALID,VALID,NULL': 1,\n",
       "             'VALID,INVALID,VALID,VALID': 534,\n",
       "             'VALID,NULL,NULL,NULL': 11,\n",
       "             'VALID,NULL,VALID,VALID': 36,\n",
       "             'VALID,VALID,INVALID,NULL': 2,\n",
       "             'VALID,VALID,INVALID,VALID': 3,\n",
       "             'VALID,VALID,NULL,NULL': 1384940,\n",
       "             'VALID,VALID,NULL,VALID': 4182,\n",
       "             'VALID,VALID,VALID,INVALID': 1205,\n",
       "             'VALID,VALID,VALID,NULL': 509,\n",
       "             'VALID,VALID,VALID,VALID': 3700790})"
      ]
     },
     "execution_count": 179,
     "metadata": {},
     "output_type": "execute_result"
    }
   ],
   "source": [
    "checkResults_from_to.countByValue()"
   ]
  },
  {
   "cell_type": "markdown",
   "metadata": {},
   "source": [
    "### RPD_DT\n",
    "- Check Nullity\n",
    "- Check date format using checkDate()"
   ]
  },
  {
   "cell_type": "code",
   "execution_count": 40,
   "metadata": {
    "collapsed": false
   },
   "outputs": [
    {
     "data": {
      "text/plain": [
       "defaultdict(int, {'VALID': 5101231})"
      ]
     },
     "execution_count": 40,
     "metadata": {},
     "output_type": "execute_result"
    }
   ],
   "source": [
    "def check_RPD_DT(line):\n",
    "    if checkNull(line)=='VALID':\n",
    "        return checkDate(line)\n",
    "    else:\n",
    "        return 'NULL'\n",
    "RPD_DT = lines.map(lambda x:x[colname2idx['RPT_DT']])\n",
    "checkResults_RPD_DT = RPD_DT.map(lambda x: check_RPD_DT(x))\n",
    "checkResults_RPD_DT.countByValue()"
   ]
  },
  {
   "cell_type": "markdown",
   "metadata": {},
   "source": [
    "## Categorical Variables"
   ]
  },
  {
   "cell_type": "markdown",
   "metadata": {},
   "source": [
    "### KY_CD and PD_CD (3 digits codes)\n",
    "- Check nullity\n",
    "- Use checkRegex() to check whether it consists of 3-digits only."
   ]
  },
  {
   "cell_type": "code",
   "execution_count": 48,
   "metadata": {
    "collapsed": true
   },
   "outputs": [],
   "source": [
    "def check_KY_CD(line,regex):\n",
    "    if checkNull(line)=='VALID':\n",
    "        return checkRegex(line,regex)\n",
    "    else:\n",
    "        return 'NULL'\n",
    "regex_3_digits = '^\\d{3}$'"
   ]
  },
  {
   "cell_type": "code",
   "execution_count": 49,
   "metadata": {
    "collapsed": true
   },
   "outputs": [],
   "source": [
    "KY_CD = lines.map(lambda x:x[colname2idx['KY_CD']])\n",
    "PD_CD = lines.map(lambda x:x[colname2idx['PD_CD']])\n",
    "checkResults_KY_CD = KY_CD.map(lambda x: check_KY_CD(x,regex_3_digits))\n",
    "checkResults_PD_CD = PD_CD.map(lambda x: check_KY_CD(x,regex_3_digits))"
   ]
  },
  {
   "cell_type": "code",
   "execution_count": 50,
   "metadata": {
    "collapsed": false
   },
   "outputs": [
    {
     "data": {
      "text/plain": [
       "defaultdict(int, {'VALID': 5101231})"
      ]
     },
     "execution_count": 50,
     "metadata": {},
     "output_type": "execute_result"
    }
   ],
   "source": [
    "checkResults_KY_CD.countByValue()"
   ]
  },
  {
   "cell_type": "markdown",
   "metadata": {},
   "source": [
    "### OFNS_DESC and PD_DESC (Description of codes)\n",
    "- Check nullity only"
   ]
  },
  {
   "cell_type": "code",
   "execution_count": 52,
   "metadata": {
    "collapsed": false
   },
   "outputs": [
    {
     "data": {
      "text/plain": [
       "defaultdict(int, {'NULL': 18840, 'VALID': 5082391})"
      ]
     },
     "execution_count": 52,
     "metadata": {},
     "output_type": "execute_result"
    }
   ],
   "source": [
    "checkResults_OFNS_DESC = lines.map(lambda x: x[colname2idx['OFNS_DESC']]).map(checkNull)\n",
    "checkResults_OFNS_DESC.countByValue()"
   ]
  },
  {
   "cell_type": "code",
   "execution_count": 234,
   "metadata": {
    "collapsed": false
   },
   "outputs": [
    {
     "data": {
      "text/plain": [
       "defaultdict(int, {'NULL': 4574, 'VALID': 5096657})"
      ]
     },
     "execution_count": 234,
     "metadata": {},
     "output_type": "execute_result"
    }
   ],
   "source": [
    "checkResults_PD_DESC = lines.map(lambda x: x[colname2idx['PD_DESC']]).map(checkNull)\n",
    "checkResults_PD_DESC.countByValue()"
   ]
  },
  {
   "cell_type": "markdown",
   "metadata": {
    "collapsed": true
   },
   "source": [
    "#### Data Quality Issue\n",
    "OFNS_DESC should be a one to one map with KY_CD (similarly, PD_DESC and PD_CD) but the situations that one code maps to different description exsists. (Usually minor difference)\n",
    "\n",
    "Storing replicated descriptions is not wise and consumes unnecessary storage. Instead we should make a table of code-description mapping just as what shown below."
   ]
  },
  {
   "cell_type": "code",
   "execution_count": 90,
   "metadata": {
    "collapsed": false
   },
   "outputs": [],
   "source": [
    "KY_CD_DESC = lines.map(lambda x:x[6]+'/t'+x[7])\n",
    "KY_CD_count = KY_CD_DESC.countByValue()"
   ]
  },
  {
   "cell_type": "code",
   "execution_count": 196,
   "metadata": {
    "collapsed": false
   },
   "outputs": [
    {
     "data": {
      "text/plain": [
       "defaultdict(int,\n",
       "            {u'101/tMURDER & NON-NEGL. MANSLAUGHTER': 4574,\n",
       "             u'102/tHOMICIDE-NEGLIGENT-VEHICLE': 93,\n",
       "             u'103/tHOMICIDE-NEGLIGENT,UNCLASSIFIE': 33,\n",
       "             u'104/tRAPE': 13791,\n",
       "             u'105/t': 2,\n",
       "             u'105/tROBBERY': 198772,\n",
       "             u'106/t': 55,\n",
       "             u'106/tFELONY ASSAULT': 184069,\n",
       "             u'107/t': 1,\n",
       "             u'107/tBURGLARY': 191406,\n",
       "             u'109/t': 9,\n",
       "             u'109/tGRAND LARCENY': 429196,\n",
       "             u'110/tGRAND LARCENY OF MOTOR VEHICLE': 102061,\n",
       "             u'111/t': 1,\n",
       "             u'111/tPOSSESSION OF STOLEN PROPERTY': 9112,\n",
       "             u'112/t': 6,\n",
       "             u'112/tTHEFT-FRAUD': 56762,\n",
       "             u'113/t': 1,\n",
       "             u'113/tFORGERY': 49303,\n",
       "             u'114/tARSON': 13984,\n",
       "             u'115/tPROSTITUTION & RELATED OFFENSES': 122,\n",
       "             u'116/t': 2,\n",
       "             u'116/tSEX CRIMES': 10853,\n",
       "             u'117/t': 4,\n",
       "             u'117/tDANGEROUS DRUGS': 62679,\n",
       "             u'118/tDANGEROUS WEAPONS': 50563,\n",
       "             u'119/tINTOXICATED/IMPAIRED DRIVING': 48,\n",
       "             u'120/tCHILD ABANDONMENT/NON SUPPORT': 367,\n",
       "             u'120/tENDAN WELFARE INCOMP': 22,\n",
       "             u'121/t': 5,\n",
       "             u'121/tCRIMINAL MISCHIEF & RELATED OF': 72416,\n",
       "             u'122/tGAMBLING': 122,\n",
       "             u'123/tABORTION': 4,\n",
       "             u'124/t': 1,\n",
       "             u'124/tKIDNAPPING': 2,\n",
       "             u'124/tKIDNAPPING & RELATED OFFENSES': 2300,\n",
       "             u'124/tKIDNAPPING AND RELATED OFFENSES': 2,\n",
       "             u'125/t': 1,\n",
       "             u'125/tNYS LAWS-UNCLASSIFIED FELONY': 3755,\n",
       "             u'126/t': 1798,\n",
       "             u'126/tMISCELLANEOUS PENAL LAW': 110468,\n",
       "             u'230/t': 1,\n",
       "             u'230/tJOSTLING': 299,\n",
       "             u\"231/tBURGLAR'S TOOLS\": 2477,\n",
       "             u'232/t': 1,\n",
       "             u'232/tPOSSESSION OF STOLEN PROPERTY': 20376,\n",
       "             u'233/t': 13,\n",
       "             u'233/tSEX CRIMES': 44117,\n",
       "             u'234/tPROSTITUTION & RELATED OFFENSES': 111,\n",
       "             u'235/t': 11,\n",
       "             u'235/tDANGEROUS DRUGS': 285790,\n",
       "             u'236/t': 8,\n",
       "             u'236/tDANGEROUS WEAPONS': 73672,\n",
       "             u'237/t': 1,\n",
       "             u'237/tESCAPE 3': 167,\n",
       "             u'238/tFRAUDULENT ACCOSTING': 2645,\n",
       "             u'340/t': 3,\n",
       "             u'340/tFRAUDS': 32054,\n",
       "             u'341/t': 10,\n",
       "             u'341/tPETIT LARCENY': 822498,\n",
       "             u'342/tPETIT LARCENY OF MOTOR VEHICLE': 908,\n",
       "             u'343/t': 2,\n",
       "             u'343/tOTHER OFFENSES RELATED TO THEF': 9731,\n",
       "             u'343/tTHEFT OF SERVICES': 2778,\n",
       "             u'344/t': 73,\n",
       "             u'344/tASSAULT 3 & RELATED OFFENSES': 521538,\n",
       "             u'345/tENDAN WELFARE INCOMP': 122,\n",
       "             u'345/tOFFENSES RELATED TO CHILDREN': 1346,\n",
       "             u'346/tALCOHOLIC BEVERAGE CONTROL LAW': 750,\n",
       "             u'347/t': 3,\n",
       "             u'347/tINTOXICATED & IMPAIRED DRIVING': 73730,\n",
       "             u'348/t': 2,\n",
       "             u'348/tVEHICLE AND TRAFFIC LAWS': 59140,\n",
       "             u'349/tDISRUPTION OF A RELIGIOUS SERV': 47,\n",
       "             u'350/t': 1,\n",
       "             u'350/tGAMBLING': 1901,\n",
       "             u'351/t': 10,\n",
       "             u'351/tCRIMINAL MISCHIEF & RELATED OF': 433358,\n",
       "             u'352/t': 5,\n",
       "             u'352/tCRIMINAL TRESPASS': 66544,\n",
       "             u'353/tUNAUTHORIZED USE OF A VEHICLE': 13826,\n",
       "             u'354/tANTICIPATORY OFFENSES': 95,\n",
       "             u'355/t': 2,\n",
       "             u'355/tOFFENSES AGAINST THE PERSON': 12339,\n",
       "             u'356/t': 9,\n",
       "             u'356/tPROSTITUTION & RELATED OFFENSES': 609,\n",
       "             u'357/tFORTUNE TELLING': 11,\n",
       "             u'358/t': 2,\n",
       "             u'358/tOFFENSES INVOLVING FRAUD': 17737,\n",
       "             u'359/t': 16,\n",
       "             u'359/tOFFENSES AGAINST PUBLIC ADMINI': 100118,\n",
       "             u'360/t': 16041,\n",
       "             u'360/tLOITERING FOR DRUG PURPOSES': 23,\n",
       "             u'361/t': 37,\n",
       "             u'361/tOFF. AGNST PUB ORD SENSBLTY &': 283065,\n",
       "             u'362/tOFFENSES AGAINST MARRIAGE UNCL': 3,\n",
       "             u'363/tOFFENSES AGAINST PUBLIC SAFETY': 810,\n",
       "             u'364/t': 402,\n",
       "             u'364/tAGRICULTURE & MRKTS LAW-UNCLASSIFIED': 83,\n",
       "             u'364/tOTHER STATE LAWS (NON PENAL LA': 5505,\n",
       "             u'364/tOTHER STATE LAWS (NON PENAL LAW)': 4,\n",
       "             u'365/t': 2,\n",
       "             u'365/tADMINISTRATIVE CODE': 9937,\n",
       "             u'366/t': 1,\n",
       "             u'366/tNEW YORK CITY HEALTH CODE': 44,\n",
       "             u'455/tUNLAWFUL POSS. WEAP. ON SCHOOL': 59,\n",
       "             u'460/tLOITERING/DEVIATE SEX': 16,\n",
       "             u'571/tLOITERING/GAMBLING (CARDS, DIC': 207,\n",
       "             u'572/tDISORDERLY CONDUCT': 829,\n",
       "             u'577/tUNDER THE INFLUENCE OF DRUGS': 3,\n",
       "             u'578/t': 71,\n",
       "             u'578/tHARRASSMENT 2': 604070,\n",
       "             u'672/tLOITERING': 20,\n",
       "             u'675/t': 4,\n",
       "             u'675/tADMINISTRATIVE CODE': 1446,\n",
       "             u'676/tNEW YORK CITY HEALTH CODE': 31,\n",
       "             u'677/tNYS LAWS-UNCLASSIFIED VIOLATION': 6,\n",
       "             u'677/tOTHER STATE LAWS': 233,\n",
       "             u'678/t': 223,\n",
       "             u'678/tMISCELLANEOUS PENAL LAW': 8253,\n",
       "             u'685/tADMINISTRATIVE CODES': 18,\n",
       "             u'881/tOTHER TRAFFIC INFRACTION': 13})"
      ]
     },
     "execution_count": 196,
     "metadata": {},
     "output_type": "execute_result"
    }
   ],
   "source": [
    "KY_CD_count"
   ]
  },
  {
   "cell_type": "code",
   "execution_count": null,
   "metadata": {
    "collapsed": true
   },
   "outputs": [],
   "source": []
  },
  {
   "cell_type": "code",
   "execution_count": 123,
   "metadata": {
    "collapsed": false
   },
   "outputs": [],
   "source": [
    "# Create new table that maps KY_CD code to unique description\n",
    "import collections\n",
    "KY_CD_map = collections.defaultdict()\n",
    "for key in KY_CD_count.keys():\n",
    "    pairs = key.split('/t')\n",
    "    if len(pairs[1])==0:\n",
    "        continue\n",
    "    else:\n",
    "        code = pairs[0]\n",
    "        description = pairs[1]\n",
    "        value = KY_CD_count[key]\n",
    "        if code in KY_CD_map.keys():\n",
    "            #print('code %s replicate!'%(code))\n",
    "            if value>KY_CD_map[code]:\n",
    "                KY_CD_map[code]=description\n",
    "        else:\n",
    "            KY_CD_map[code]=description      "
   ]
  },
  {
   "cell_type": "code",
   "execution_count": 125,
   "metadata": {
    "collapsed": false
   },
   "outputs": [],
   "source": [
    "KY_CD_map_df = pd.DataFrame(KY_CD_map.values(),index=KY_CD_map.keys(),columns=['DESCRIPTION']).sort_index()"
   ]
  },
  {
   "cell_type": "code",
   "execution_count": 156,
   "metadata": {
    "collapsed": false
   },
   "outputs": [
    {
     "data": {
      "text/html": [
       "<div>\n",
       "<table border=\"1\" class=\"dataframe\">\n",
       "  <thead>\n",
       "    <tr style=\"text-align: right;\">\n",
       "      <th></th>\n",
       "      <th>DESCRIPTION</th>\n",
       "    </tr>\n",
       "  </thead>\n",
       "  <tbody>\n",
       "    <tr>\n",
       "      <th>101</th>\n",
       "      <td>MURDER &amp; NON-NEGL. MANSLAUGHTER</td>\n",
       "    </tr>\n",
       "    <tr>\n",
       "      <th>102</th>\n",
       "      <td>HOMICIDE-NEGLIGENT-VEHICLE</td>\n",
       "    </tr>\n",
       "    <tr>\n",
       "      <th>103</th>\n",
       "      <td>HOMICIDE-NEGLIGENT,UNCLASSIFIE</td>\n",
       "    </tr>\n",
       "    <tr>\n",
       "      <th>104</th>\n",
       "      <td>RAPE</td>\n",
       "    </tr>\n",
       "    <tr>\n",
       "      <th>105</th>\n",
       "      <td>ROBBERY</td>\n",
       "    </tr>\n",
       "  </tbody>\n",
       "</table>\n",
       "</div>"
      ],
      "text/plain": [
       "                         DESCRIPTION\n",
       "101  MURDER & NON-NEGL. MANSLAUGHTER\n",
       "102       HOMICIDE-NEGLIGENT-VEHICLE\n",
       "103   HOMICIDE-NEGLIGENT,UNCLASSIFIE\n",
       "104                             RAPE\n",
       "105                          ROBBERY"
      ]
     },
     "execution_count": 156,
     "metadata": {},
     "output_type": "execute_result"
    }
   ],
   "source": [
    "# The result dict is one-one\n",
    "KY_CD_map_df.head()"
   ]
  },
  {
   "cell_type": "markdown",
   "metadata": {},
   "source": [
    "### CRM_ATPT_CPTD_CD, LAW_CAT_CD,JURIS_DESC,BORO_NM,ADDR_PCT_CD,LOC_OF_OCCUR_DESC\n",
    "These columns are catogorical variables which only consists of a few cases. Our procedure will:\n",
    "- Check nullity\n",
    "- Check whether a line match one of the cases\n",
    "\n",
    "The functions used to check validities are all stores in utilities.py"
   ]
  },
  {
   "cell_type": "code",
   "execution_count": 131,
   "metadata": {
    "collapsed": false
   },
   "outputs": [],
   "source": [
    "CRM_ATPT_CPTD_CD = lines.map(lambda x: x[colname2idx['CRM_ATPT_CPTD_CD']])\n",
    "#Use the following method to check validity\n",
    "def checkCaseStatus(line):\n",
    "    # check the validation of column offense descrption\n",
    "    if checkNull(line) == 'VALID':\n",
    "        if (line == 'COMPLETED' or line == 'ATTEMPTED'):\n",
    "            return 'VALID'\n",
    "        else:\n",
    "            return 'INVALID'\n",
    "    else: \n",
    "        return 'NULL'"
   ]
  },
  {
   "cell_type": "code",
   "execution_count": 133,
   "metadata": {
    "collapsed": false
   },
   "outputs": [
    {
     "data": {
      "text/plain": [
       "defaultdict(int, {'NULL': 7, 'VALID': 5101224})"
      ]
     },
     "execution_count": 133,
     "metadata": {},
     "output_type": "execute_result"
    }
   ],
   "source": [
    "checkResults_CRM_ATPT_CPTD_CD = CRM_ATPT_CPTD_CD.map(checkCaseStatus)\n",
    "checkResults_CRM_ATPT_CPTD_CD.countByValue()"
   ]
  },
  {
   "cell_type": "code",
   "execution_count": 235,
   "metadata": {
    "collapsed": false
   },
   "outputs": [
    {
     "data": {
      "text/plain": [
       "defaultdict(int, {'VALID': 5101231})"
      ]
     },
     "execution_count": 235,
     "metadata": {},
     "output_type": "execute_result"
    }
   ],
   "source": [
    "LAW_CAT_CD = lines.map(lambda x: x[colname2idx['LAW_CAT_CD']])\n",
    "checkResults_LAW_CAT_CD = LAW_CAT_CD.map(checkLevelOfOffense)\n",
    "checkResults_LAW_CAT_CD.countByValue()"
   ]
  },
  {
   "cell_type": "code",
   "execution_count": 240,
   "metadata": {
    "collapsed": false
   },
   "outputs": [
    {
     "data": {
      "text/plain": [
       "defaultdict(int,\n",
       "            {u'AMTRACK': 153,\n",
       "             u'CONRAIL': 14,\n",
       "             u'DEPT OF CORRECTIONS': 4825,\n",
       "             u'DISTRICT ATTORNEY OFFICE': 1,\n",
       "             u'FIRE DEPT (FIRE MARSHAL)': 514,\n",
       "             u'HEALTH & HOSP CORP': 2590,\n",
       "             u'LONG ISLAND RAILRD': 439,\n",
       "             u'METRO NORTH': 531,\n",
       "             u'N.Y. HOUSING POLICE': 390853,\n",
       "             u'N.Y. POLICE DEPT': 4538344,\n",
       "             u'N.Y. STATE PARKS': 272,\n",
       "             u'N.Y. STATE POLICE': 1209,\n",
       "             u'N.Y. TRANSIT POLICE': 108817,\n",
       "             u'NEW YORK CITY SHERIFF OFFICE': 134,\n",
       "             u'NYC DEPT ENVIRONMENTAL PROTECTION': 14,\n",
       "             u'NYC PARKS': 71,\n",
       "             u'NYS DEPT ENVIRONMENTAL CONSERVATION': 1,\n",
       "             u'NYS DEPT TAX AND FINANCE': 77,\n",
       "             u'OTHER': 13575,\n",
       "             u'POLICE DEPT NYC': 8986,\n",
       "             u'PORT AUTHORITY': 24657,\n",
       "             u'SEA GATE POLICE DEPT': 30,\n",
       "             u'STATN IS RAPID TRANS': 306,\n",
       "             u'TRI-BORO BRDG TUNNL': 4633,\n",
       "             u'U.S. PARK POLICE': 185})"
      ]
     },
     "execution_count": 240,
     "metadata": {},
     "output_type": "execute_result"
    }
   ],
   "source": [
    "JURIS_DESC = lines.map(lambda x:x[colname2idx['JURIS_DESC']])\n",
    "JURIS_DESC.countByValue()"
   ]
  },
  {
   "cell_type": "code",
   "execution_count": 242,
   "metadata": {
    "collapsed": false
   },
   "outputs": [
    {
     "data": {
      "text/plain": [
       "defaultdict(int,\n",
       "            {u'': 463,\n",
       "             u'BRONX': 1103514,\n",
       "             u'BROOKLYN': 1526213,\n",
       "             u'MANHATTAN': 1216249,\n",
       "             u'QUEENS': 1011002,\n",
       "             u'STATEN ISLAND': 243790})"
      ]
     },
     "execution_count": 242,
     "metadata": {},
     "output_type": "execute_result"
    }
   ],
   "source": [
    "BORO_NM = lines.map(lambda x: x[colname2idx['BORO_NM']])\n",
    "BORO_NM.countByValue()"
   ]
  },
  {
   "cell_type": "code",
   "execution_count": 243,
   "metadata": {
    "collapsed": false
   },
   "outputs": [
    {
     "data": {
      "text/plain": [
       "defaultdict(int,\n",
       "            {u'': 390,\n",
       "             u'1': 61537,\n",
       "             u'10': 43479,\n",
       "             u'100': 25879,\n",
       "             u'101': 41139,\n",
       "             u'102': 65302,\n",
       "             u'103': 80404,\n",
       "             u'104': 75116,\n",
       "             u'105': 74018,\n",
       "             u'106': 61495,\n",
       "             u'107': 53750,\n",
       "             u'108': 54117,\n",
       "             u'109': 80169,\n",
       "             u'110': 68583,\n",
       "             u'111': 33116,\n",
       "             u'112': 36889,\n",
       "             u'113': 87842,\n",
       "             u'114': 91696,\n",
       "             u'115': 81493,\n",
       "             u'120': 109720,\n",
       "             u'121': 17449,\n",
       "             u'122': 82693,\n",
       "             u'123': 34003,\n",
       "             u'13': 74443,\n",
       "             u'14': 119415,\n",
       "             u'17': 32659,\n",
       "             u'18': 79129,\n",
       "             u'19': 65983,\n",
       "             u'20': 40974,\n",
       "             u'22': 4420,\n",
       "             u'23': 66693,\n",
       "             u'24': 50509,\n",
       "             u'25': 67480,\n",
       "             u'26': 34275,\n",
       "             u'28': 53052,\n",
       "             u'30': 49689,\n",
       "             u'32': 70599,\n",
       "             u'33': 45214,\n",
       "             u'34': 53834,\n",
       "             u'40': 118896,\n",
       "             u'41': 70032,\n",
       "             u'42': 78477,\n",
       "             u'43': 137771,\n",
       "             u'44': 127725,\n",
       "             u'45': 64272,\n",
       "             u'46': 111356,\n",
       "             u'47': 90507,\n",
       "             u'48': 82118,\n",
       "             u'49': 68574,\n",
       "             u'5': 44917,\n",
       "             u'50': 46599,\n",
       "             u'52': 107178,\n",
       "             u'6': 54905,\n",
       "             u'60': 64959,\n",
       "             u'61': 64665,\n",
       "             u'62': 61874,\n",
       "             u'63': 54424,\n",
       "             u'66': 49609,\n",
       "             u'67': 94719,\n",
       "             u'68': 51275,\n",
       "             u'69': 50126,\n",
       "             u'7': 40886,\n",
       "             u'70': 81609,\n",
       "             u'71': 72089,\n",
       "             u'72': 54961,\n",
       "             u'73': 107097,\n",
       "             u'75': 165479,\n",
       "             u'76': 28928,\n",
       "             u'77': 76718,\n",
       "             u'78': 34725,\n",
       "             u'79': 81617,\n",
       "             u'81': 65145,\n",
       "             u'83': 69104,\n",
       "             u'84': 51565,\n",
       "             u'88': 46255,\n",
       "             u'9': 62165,\n",
       "             u'90': 65730,\n",
       "             u'94': 33533})"
      ]
     },
     "execution_count": 243,
     "metadata": {},
     "output_type": "execute_result"
    }
   ],
   "source": [
    "ADDR_PCT_CD = lines.map(lambda x: x[colname2iADDR_PCT_CDDR_PCT_CD_PCT_CD'ADDR_PCT_CD']])\n",
    "ADDR_PCT_CD.countByValue()"
   ]
  },
  {
   "cell_type": "code",
   "execution_count": 244,
   "metadata": {
    "collapsed": false
   },
   "outputs": [
    {
     "data": {
      "text/plain": [
       "defaultdict(int,\n",
       "            {u'': 1127128,\n",
       "             u' ': 213,\n",
       "             u'FRONT OF': 1189787,\n",
       "             u'INSIDE': 2527543,\n",
       "             u'OPPOSITE OF': 140606,\n",
       "             u'OUTSIDE': 2765,\n",
       "             u'REAR OF': 113189})"
      ]
     },
     "execution_count": 244,
     "metadata": {},
     "output_type": "execute_result"
    }
   ],
   "source": [
    "LOC_OF_OCCUR_DESC = lines.map(lambda x: x[colname2idx['LOC_OF_OCCUR_DESC']])\n",
    "LOC_OF_OCCUR_DESC.countByValue()"
   ]
  },
  {
   "cell_type": "code",
   "execution_count": 245,
   "metadata": {
    "collapsed": false
   },
   "outputs": [
    {
     "data": {
      "text/plain": [
       "defaultdict(int,\n",
       "            {u'': 33279,\n",
       "             u'ABANDONED BUILDING': 1891,\n",
       "             u'AIRPORT TERMINAL': 14315,\n",
       "             u'ATM': 4267,\n",
       "             u'BANK': 21252,\n",
       "             u'BAR/NIGHT CLUB': 57065,\n",
       "             u'BEAUTY & NAIL SALON': 13027,\n",
       "             u'BOOK/CARD': 1647,\n",
       "             u'BRIDGE': 5490,\n",
       "             u'BUS (NYC TRANSIT)': 10581,\n",
       "             u'BUS (OTHER)': 2638,\n",
       "             u'BUS STOP': 4455,\n",
       "             u'BUS TERMINAL': 3618,\n",
       "             u'CANDY STORE': 6487,\n",
       "             u'CEMETERY': 668,\n",
       "             u'CHAIN STORE': 95079,\n",
       "             u'CHECK CASHING BUSINESS': 5587,\n",
       "             u'CHURCH': 9151,\n",
       "             u'CLOTHING/BOUTIQUE': 42178,\n",
       "             u'COMMERCIAL BUILDING': 131497,\n",
       "             u'CONSTRUCTION SITE': 8411,\n",
       "             u'DEPARTMENT STORE': 96971,\n",
       "             u'DOCTOR/DENTIST OFFICE': 12253,\n",
       "             u'DRUG STORE': 37479,\n",
       "             u'DRY CLEANER/LAUNDRY': 10278,\n",
       "             u'FACTORY/WAREHOUSE': 5522,\n",
       "             u'FAST FOOD': 22781,\n",
       "             u'FERRY/FERRY TERMINAL': 1344,\n",
       "             u'FOOD SUPERMARKET': 26976,\n",
       "             u'GAS STATION': 11889,\n",
       "             u'GROCERY/BODEGA': 56222,\n",
       "             u'GYM/FITNESS FACILITY': 16002,\n",
       "             u'HIGHWAY/PARKWAY': 14657,\n",
       "             u'HOSPITAL': 23594,\n",
       "             u'HOTEL/MOTEL': 19772,\n",
       "             u'JEWELRY': 3822,\n",
       "             u'LIQUOR STORE': 3224,\n",
       "             u'LOAN COMPANY': 378,\n",
       "             u'MARINA/PIER': 2162,\n",
       "             u'MOSQUE': 659,\n",
       "             u'OPEN AREAS (OPEN LOTS)': 7973,\n",
       "             u'OTHER': 134762,\n",
       "             u'OTHER HOUSE OF WORSHIP': 755,\n",
       "             u'PARK/PLAYGROUND': 60933,\n",
       "             u'PARKING LOT/GARAGE (PRIVATE)': 29507,\n",
       "             u'PARKING LOT/GARAGE (PUBLIC)': 29840,\n",
       "             u'PHOTO/COPY': 718,\n",
       "             u'PRIVATE/PAROCHIAL SCHOOL': 6239,\n",
       "             u'PUBLIC BUILDING': 32796,\n",
       "             u'PUBLIC SCHOOL': 66521,\n",
       "             u'RESIDENCE - APT. HOUSE': 1054419,\n",
       "             u'RESIDENCE - PUBLIC HOUSING': 381745,\n",
       "             u'RESIDENCE-HOUSE': 504402,\n",
       "             u'RESTAURANT/DINER': 56372,\n",
       "             u'SHOE': 3600,\n",
       "             u'SMALL MERCHANT': 21961,\n",
       "             u'SOCIAL CLUB/POLICY': 3250,\n",
       "             u'STORAGE FACILITY': 4599,\n",
       "             u'STORE UNCLASSIFIED': 23687,\n",
       "             u'STREET': 1697935,\n",
       "             u'SYNAGOGUE': 1893,\n",
       "             u'TAXI (LIVERY LICENSED)': 4124,\n",
       "             u'TAXI (YELLOW LICENSED)': 4749,\n",
       "             u'TAXI/LIVERY (UNLICENSED)': 899,\n",
       "             u'TELECOMM. STORE': 6642,\n",
       "             u'TRAMWAY': 102,\n",
       "             u'TRANSIT - NYC SUBWAY': 106028,\n",
       "             u'TRANSIT FACILITY (OTHER)': 4244,\n",
       "             u'TUNNEL': 2751,\n",
       "             u'VARIETY STORE': 7267,\n",
       "             u'VIDEO STORE': 1950})"
      ]
     },
     "execution_count": 245,
     "metadata": {},
     "output_type": "execute_result"
    }
   ],
   "source": [
    "PREM_TYP_DESC = lines.map(lambda x: x[colname2idx['PREM_TYP_DESC']])\n",
    "PREM_TYP_DESC.countByValue()"
   ]
  },
  {
   "cell_type": "code",
   "execution_count": 247,
   "metadata": {
    "collapsed": false
   },
   "outputs": [
    {
     "data": {
      "text/plain": [
       "defaultdict(int,\n",
       "            {u'': 4848026,\n",
       "             u'1010 EAST 178TH STREET': 1,\n",
       "             u'1162-1176 WASHINGTON AVENUE': 318,\n",
       "             u'131 SAINT NICHOLAS AVENUE': 232,\n",
       "             u'1471 WATSON AVENUE': 224,\n",
       "             u'303 VERNON AVENUE': 646,\n",
       "             u'33-35 SARATOGA AVENUE': 365,\n",
       "             u'344 EAST 28TH STREET': 1,\n",
       "             u'45 ALLEN STREET': 111,\n",
       "             u'572 WARREN STREET': 342,\n",
       "             u'830 AMSTERDAM AVENUE': 432,\n",
       "             u'ADAMS': 1930,\n",
       "             u'ALBANY': 2004,\n",
       "             u'ALBANY II': 1065,\n",
       "             u'AMSTERDAM': 1095,\n",
       "             u'ARMSTRONG I': 1395,\n",
       "             u'ARMSTRONG II': 1538,\n",
       "             u'ASTORIA': 1564,\n",
       "             u'ATLANTIC TERMINAL SITE 4B': 657,\n",
       "             u'AUDUBON': 362,\n",
       "             u'BAILEY AVENUE-WEST 193RD STREET': 484,\n",
       "             u'BAISLEY PARK': 337,\n",
       "             u'BARUCH': 3147,\n",
       "             u'BARUCH HOUSES ADDITION': 120,\n",
       "             u'BAY VIEW': 1852,\n",
       "             u'BAYCHESTER': 31,\n",
       "             u'BAYSIDE-OCEAN BAY APTS': 1256,\n",
       "             u'BEACH 41ST STREET-BEACH CHANNEL DRIVE': 523,\n",
       "             u'BEDFORD-STUYVESANT REHAB': 191,\n",
       "             u'BELMONT-SUTTER AREA': 231,\n",
       "             u'BERRY': 789,\n",
       "             u'BERRY STREET-SOUTH 9TH STREET': 147,\n",
       "             u'BETANCES I': 615,\n",
       "             u'BETANCES III': 55,\n",
       "             u'BETANCES VI': 17,\n",
       "             u'BETHUNE GARDENS': 86,\n",
       "             u'BLAND': 594,\n",
       "             u'BORINQUEN PLAZA I': 1603,\n",
       "             u'BORINQUEN PLAZA II': 1305,\n",
       "             u'BOSTON ROAD PLAZA': 92,\n",
       "             u'BOSTON SECOR': 1208,\n",
       "             u'BOULEVARD': 2821,\n",
       "             u'BOYNTON AVENUE REHAB': 257,\n",
       "             u'BREUKELEN': 662,\n",
       "             u'BREVOORT': 1938,\n",
       "             u'BRONX RIVER': 1904,\n",
       "             u'BRONX RIVER ADDITION': 99,\n",
       "             u'BRONXCHESTER': 1,\n",
       "             u'BRONXDALE': 3485,\n",
       "             u'BROWN': 12,\n",
       "             u'BROWNSVILLE': 3579,\n",
       "             u'BRYANT AVENUE-EAST 174TH STREET': 83,\n",
       "             u'BUSHWICK': 3052,\n",
       "             u'BUSHWICK II (GROUPS A & C)': 537,\n",
       "             u'BUSHWICK II (GROUPS B & D)': 579,\n",
       "             u'BUSHWICK II CDA (GROUP E)': 307,\n",
       "             u'BUTLER': 3960,\n",
       "             u'CAMPOS PLAZA I': 311,\n",
       "             u'CAREY GARDENS': 11,\n",
       "             u'CARLETON MANOR': 402,\n",
       "             u'CARVER': 503,\n",
       "             u'CASSIDY-LAFAYETTE': 134,\n",
       "             u'CASTLE HILL': 5495,\n",
       "             u'CLAREMONT PARKWAY-FRANKLIN AVENUE': 187,\n",
       "             u'CLAREMONT REHAB (GROUP 2)': 494,\n",
       "             u'CLAREMONT REHAB (GROUP 3)': 219,\n",
       "             u'CLAREMONT REHAB (GROUP 4)': 357,\n",
       "             u'CLAREMONT REHAB (GROUP 5)': 400,\n",
       "             u'CLASON POINT GARDENS': 943,\n",
       "             u'CLINTON': 2100,\n",
       "             u'COLLEGE AVENUE-EAST 165TH STREET': 125,\n",
       "             u'CONEY ISLAND': 716,\n",
       "             u'CONEY ISLAND I (SITE 1B)': 848,\n",
       "             u'COOPER PARK': 1473,\n",
       "             u'CROWN HEIGHTS': 209,\n",
       "             u'CYPRESS HILLS': 2998,\n",
       "             u'DAVIDSON': 673,\n",
       "             u'DE HOSTOS APARTMENTS': 11,\n",
       "             u'DOUGLASS': 3749,\n",
       "             u'DOUGLASS ADDITION': 500,\n",
       "             u'DYCKMAN': 599,\n",
       "             u'EAGLE AVENUE-EAST 163RD STREET': 251,\n",
       "             u'EAST 165TH STREET-BRYANT AVENUE': 111,\n",
       "             u'EAST 173RD STREET-VYSE AVENUE': 459,\n",
       "             u'EAST 180TH STREET-MONTEREY AVENUE': 271,\n",
       "             u'EAST NEW YORK CITY LINE': 217,\n",
       "             u'EASTCHESTER GARDENS': 1580,\n",
       "             u'EDENWALD': 752,\n",
       "             u'FARRAGUT': 3673,\n",
       "             u'FENIMORE-LEFFERTS': 102,\n",
       "             u'FIORENTINO PLAZA': 763,\n",
       "             u'FIRST HOUSES': 32,\n",
       "             u'FOREST': 1094,\n",
       "             u'FOREST HILLS COOP (108TH STREET-62ND DRIVE)': 1,\n",
       "             u'FORT INDEPENDENCE STREET-HEATH AVENUE': 853,\n",
       "             u'FORT WASHINGTON AVENUE REHAB': 116,\n",
       "             u'FRANKLIN AVENUE I CONVENTIONAL': 69,\n",
       "             u'FRANKLIN AVENUE I MHOP': 28,\n",
       "             u'FRANKLIN AVENUE II CONVENTIONAL': 64,\n",
       "             u'FRANKLIN AVENUE II MHOP': 2,\n",
       "             u'FRANKLIN AVENUE III CONVENTIONAL': 22,\n",
       "             u'FRANKLIN AVENUE III MHOP': 1,\n",
       "             u'FULTON': 2,\n",
       "             u'GARVEY (GROUP A)': 1007,\n",
       "             u'GLEBE AVENUE-WESTCHESTER AVENUE': 89,\n",
       "             u'GLENMORE PLAZA': 20,\n",
       "             u'GLENWOOD': 1568,\n",
       "             u'GOMPERS': 1093,\n",
       "             u'GOWANUS': 2158,\n",
       "             u'GRAMPION': 162,\n",
       "             u'GRANT': 3886,\n",
       "             u'GRAVESEND': 253,\n",
       "             u'GUN HILL': 810,\n",
       "             u'HABER': 5,\n",
       "             u'HAMMEL': 1276,\n",
       "             u'HARLEM RIVER': 241,\n",
       "             u'HARRISON AVENUE REHAB (GROUP A)': 39,\n",
       "             u'HARRISON AVENUE REHAB (GROUP B)': 223,\n",
       "             u'HERNANDEZ': 219,\n",
       "             u'HIGHBRIDGE GARDENS': 1459,\n",
       "             u'HIGHBRIDGE REHABS (ANDERSON AVENUE)': 241,\n",
       "             u'HIGHBRIDGE REHABS (NELSON AVENUE)': 211,\n",
       "             u'HOE AVENUE-EAST 173RD STREET': 132,\n",
       "             u'HOPE GARDENS': 429,\n",
       "             u'HOWARD': 1655,\n",
       "             u'HOWARD AVENUE': 426,\n",
       "             u'HOWARD AVENUE-PARK PLACE': 420,\n",
       "             u'HUGHES APARTMENTS': 1727,\n",
       "             u'HYLAN': 444,\n",
       "             u'INDEPENDENCE': 805,\n",
       "             u'INGERSOLL': 2947,\n",
       "             u'JACKSON': 1416,\n",
       "             u'JEFFERSON': 1,\n",
       "             u'JENNINGS STREET': 44,\n",
       "             u'JOHNSON': 2476,\n",
       "             u'KING TOWERS': 775,\n",
       "             u'KINGSBOROUGH 73': 2,\n",
       "             u'KINGSBOROUGH 77': 41,\n",
       "             u'LA GUARDIA': 1985,\n",
       "             u'LA GUARDIA ADDITION': 41,\n",
       "             u'LAFAYETTE': 1544,\n",
       "             u'LATIMER GARDENS': 277,\n",
       "             u'LAVANBURG HOMES': 299,\n",
       "             u'LEHMAN': 750,\n",
       "             u'LENOX ROAD-ROCKAWAY PARKWAY': 135,\n",
       "             u'LEXINGTON': 281,\n",
       "             u'LINCOLN': 3980,\n",
       "             u'LINDEN': 3718,\n",
       "             u'LONG ISLAND BAPTIST HOUSES': 946,\n",
       "             u'LONGFELLOW AVENUE REHAB': 228,\n",
       "             u'LOW HOUSES': 1782,\n",
       "             u'LOWER EAST SIDE I INFILL': 245,\n",
       "             u'LOWER EAST SIDE II': 22,\n",
       "             u'LOWER EAST SIDE REHAB (GROUP 5)': 102,\n",
       "             u'MACOMBS ROAD': 84,\n",
       "             u'MANHATTANVILLE': 2664,\n",
       "             u'MANHATTANVILLE REHAB (GROUP 2)': 22,\n",
       "             u'MARBLE HILL': 1579,\n",
       "             u'MARCY': 4298,\n",
       "             u'MARCY AVENUE-GREENE AVENUE SITE A': 126,\n",
       "             u'MARCY AVENUE-GREENE AVENUE SITE B': 111,\n",
       "             u\"MARINER'S HARBOR\": 1573,\n",
       "             u'MARKHAM GARDENS': 486,\n",
       "             u'MARLBORO': 1411,\n",
       "             u'MARSHALL PLAZA': 61,\n",
       "             u'MCKINLEY': 428,\n",
       "             u'MELROSE': 938,\n",
       "             u'METRO NORTH REHAB': 2,\n",
       "             u'MIDDLETOWN PLAZA': 32,\n",
       "             u'MILBANK-FRAWLEY': 185,\n",
       "             u'MILL BROOK': 1042,\n",
       "             u'MILL BROOK EXTENSION': 457,\n",
       "             u'MITCHEL': 2710,\n",
       "             u'MONROE': 2912,\n",
       "             u'MOORE': 921,\n",
       "             u'MORRIS HEIGHTS REHAB': 150,\n",
       "             u'MORRIS I': 1677,\n",
       "             u'MORRIS II': 1517,\n",
       "             u'MORRISANIA': 378,\n",
       "             u'MORRISANIA AIR RIGHTS 42': 310,\n",
       "             u'MOTT HAVEN': 601,\n",
       "             u'MURPHY': 839,\n",
       "             u'NEW LANE AREA': 43,\n",
       "             u'NOSTRAND': 2093,\n",
       "             u\"O'DWYER GARDENS\": 55,\n",
       "             u'OCEAN HILL APARTMENTS': 237,\n",
       "             u'OCEAN HILL-BROWNSVILLE': 465,\n",
       "             u'OCEANSIDE-OCEAN BAY APTS': 79,\n",
       "             u'PALMETTO GARDENS': 30,\n",
       "             u'PARK ROCK REHAB': 339,\n",
       "             u'PARKSIDE': 1434,\n",
       "             u'PATTERSON': 1459,\n",
       "             u'PELHAM PARKWAY': 1998,\n",
       "             u'PENNSYLVANIA AVENUE-WORTMAN AVENUE': 915,\n",
       "             u'PINK': 3640,\n",
       "             u'POMONOK': 3131,\n",
       "             u'PROSPECT PLAZA': 22,\n",
       "             u'QUEENSBRIDGE NORTH': 745,\n",
       "             u'QUEENSBRIDGE SOUTH': 798,\n",
       "             u'RALPH AVENUE REHAB': 307,\n",
       "             u'RANDALL AVENUE-BALCOM AVENUE': 111,\n",
       "             u'RANGEL': 1978,\n",
       "             u'RED HOOK EAST': 2261,\n",
       "             u'RED HOOK WEST': 2967,\n",
       "             u'REDFERN': 1294,\n",
       "             u'REID APARTMENTS': 77,\n",
       "             u'RICHMOND TERRACE': 1562,\n",
       "             u'RIIS': 1309,\n",
       "             u'RIIS II': 797,\n",
       "             u'ROBINSON': 8,\n",
       "             u'ROOSEVELT I': 753,\n",
       "             u'ROOSEVELT II': 795,\n",
       "             u'RUTGERS': 1022,\n",
       "             u'RUTLAND TOWERS': 108,\n",
       "             u'SACK WERN': 954,\n",
       "             u\"SAINT MARY'S PARK\": 1973,\n",
       "             u'SAMUEL (CITY)': 129,\n",
       "             u'SARATOGA SQUARE': 137,\n",
       "             u'SEDGWICK': 257,\n",
       "             u'SEWARD PARK EXTENSION': 966,\n",
       "             u'SHEEPSHEAD BAY': 2247,\n",
       "             u'SMITH': 2758,\n",
       "             u'SOUNDVIEW': 3368,\n",
       "             u'SOUTH BEACH': 1109,\n",
       "             u'SOUTH BRONX AREA (SITE 402)': 281,\n",
       "             u'SOUTHERN BOULEVARD': 100,\n",
       "             u'STAPLETON': 2237,\n",
       "             u'STEBBINS AVENUE-HEWITT PLACE': 145,\n",
       "             u'STERLING PLACE REHAB (SAINT JOHNS-STERLING)': 309,\n",
       "             u'STERLING PLACE REHAB (STERLING-BUFFALO)': 430,\n",
       "             u'STUYVESANT GARDENS I': 996,\n",
       "             u'SUMNER': 2292,\n",
       "             u'SUTTER AVENUE-UNION STREET': 231,\n",
       "             u'TAFT': 1596,\n",
       "             u'TAFT REHABS (REHAB PROGRAM)': 9,\n",
       "             u'TAPSCOTT STREET REHAB': 383,\n",
       "             u'TAYLOR STREET-WYTHE AVENUE': 494,\n",
       "             u'TELLER AVENUE-EAST 166TH STREET': 280,\n",
       "             u'THROGGS NECK': 3142,\n",
       "             u'THROGGS NECK ADDITION': 667,\n",
       "             u'TILDEN': 2909,\n",
       "             u'TODT HILL': 842,\n",
       "             u'TOMPKINS': 3072,\n",
       "             u'TWIN PARKS EAST (SITE 9)': 102,\n",
       "             u'TWIN PARKS WEST (SITE 1 & 2)': 380,\n",
       "             u'TWO BRIDGES URA (SITE 7)': 248,\n",
       "             u'UNION AVENUE-EAST 163RD STREET': 132,\n",
       "             u'UNION AVENUE-EAST 166TH STREET': 276,\n",
       "             u'UNITY PLAZA (SITES 17,24,25A)': 646,\n",
       "             u'UNITY PLAZA (SITES 4-27)': 1416,\n",
       "             u'UNIVERSITY AVENUE REHAB': 505,\n",
       "             u'UPACA (SITE 5)': 123,\n",
       "             u'UPACA (SITE 6)': 113,\n",
       "             u'VAN DYKE I': 4585,\n",
       "             u'VAN DYKE II': 68,\n",
       "             u'VANDALIA AVENUE': 91,\n",
       "             u'VLADECK': 1595,\n",
       "             u'VLADECK II': 285,\n",
       "             u'WAGNER': 1409,\n",
       "             u'WALD': 1890,\n",
       "             u'WASHINGTON HEIGHTS REHAB (GROUPS 1&2)': 5,\n",
       "             u'WASHINGTON HEIGHTS REHAB PHASE III': 22,\n",
       "             u'WEBSTER': 1270,\n",
       "             u'WEEKSVILLE GARDENS': 941,\n",
       "             u'WEST BRIGHTON I': 1847,\n",
       "             u'WEST BRIGHTON II': 99,\n",
       "             u'WEST FARMS ROAD REHAB': 247,\n",
       "             u'WEST TREMONT AVENUE-SEDGWICK AVENUE AREA': 90,\n",
       "             u'WEST TREMONT REHAB (GROUP 1)': 57,\n",
       "             u'WEST TREMONT REHAB (GROUP 2)': 64,\n",
       "             u'WEST TREMONT REHAB (GROUP 3)': 136,\n",
       "             u'WHITMAN': 2980,\n",
       "             u'WILLIAMS PLAZA': 633,\n",
       "             u'WILLIAMSBURG': 2593,\n",
       "             u'WOODSIDE': 834,\n",
       "             u'WOODSON': 229,\n",
       "             u'WSUR (SITE B) 74 WEST 92ND STREET': 11,\n",
       "             u'WSUR (SITE C) 589 AMSTERDAM AVENUE': 619,\n",
       "             u'WYCKOFF GARDENS': 809})"
      ]
     },
     "execution_count": 247,
     "metadata": {},
     "output_type": "execute_result"
    }
   ],
   "source": [
    "HADEVELOPT = lines.map(lambda x: x[colname2idx['HADEVELOPT']])\n",
    "HADEVELOPT.countByValue()"
   ]
  },
  {
   "cell_type": "markdown",
   "metadata": {},
   "source": [
    "## String Columns\n",
    "JURIS_DESC, PREM_TYP_DESC, PARKS_NM, HADEVELOPT\n",
    "- Check Nullity Only"
   ]
  }
 ],
 "metadata": {
  "anaconda-cloud": {},
  "kernelspec": {
   "display_name": "Python [conda root]",
   "language": "python",
   "name": "conda-root-py"
  },
  "language_info": {
   "codemirror_mode": {
    "name": "ipython",
    "version": 2
   },
   "file_extension": ".py",
   "mimetype": "text/x-python",
   "name": "python",
   "nbconvert_exporter": "python",
   "pygments_lexer": "ipython2",
   "version": "2.7.12"
  }
 },
 "nbformat": 4,
 "nbformat_minor": 1
}
