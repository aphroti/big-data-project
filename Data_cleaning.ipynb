{
 "cells": [
  {
   "cell_type": "code",
   "execution_count": 2,
   "metadata": {
    "collapsed": false
   },
   "outputs": [],
   "source": [
    "# Loading crime csv to RDD\n",
    "# Replace with your directory\n",
    "crime_csv = sc.textFile('file:/Users/zhuorulin/Documents/DataScience/datasets/NYPD_Complaint_Data_Historic.csv',use_unicode=False)"
   ]
  },
  {
   "cell_type": "code",
   "execution_count": 21,
   "metadata": {
    "collapsed": false
   },
   "outputs": [],
   "source": [
    "# Convert csv to DataFrame\n",
    "from csv import reader # Warning: csv.reader does not support unicode decode\n",
    "from pyspark.sql import SQLContext\n",
    "from collections import defaultdict\n",
    "import datetime\n",
    "import re"
   ]
  },
  {
   "cell_type": "code",
   "execution_count": 4,
   "metadata": {
    "collapsed": false
   },
   "outputs": [],
   "source": [
    "# Use csv.reader to read raw binary\n",
    "lines_rdd = crime_csv.mapPartitions(reader)\\\n",
    ".map(lambda line: [x.decode('utf-8') for x in line] )# Decode with utf-8 codec\n",
    "# store columns values. Also a search table for searching column name using index\n",
    "schemas = lines_rdd.take(1)[0]\n",
    "# filter out first row\n",
    "lines = lines_rdd.filter(lambda x: x!=schemas)"
   ]
  },
  {
   "cell_type": "code",
   "execution_count": 5,
   "metadata": {
    "collapsed": false
   },
   "outputs": [
    {
     "name": "stdout",
     "output_type": "stream",
     "text": [
      "3\n"
     ]
    }
   ],
   "source": [
    "# This dict makes it easier to search for column index using column name\n",
    "colname2idx = defaultdict()\n",
    "for idx,colname in enumerate(schemas):\n",
    "    colname2idx[colname] = idx\n",
    "# Example\n",
    "print(colname2idx['CMPLNT_TO_DT'])"
   ]
  },
  {
   "cell_type": "markdown",
   "metadata": {},
   "source": [
    "# Global Null Checking method"
   ]
  },
  {
   "cell_type": "code",
   "execution_count": 6,
   "metadata": {
    "collapsed": true
   },
   "outputs": [],
   "source": [
    "def checkNull(string):\n",
    "    #Assume Unicode String\n",
    "    # Step 1: Check for length 0 i.e '' field\n",
    "    if len(string)==0:\n",
    "        return 'NULL'\n",
    "    # Step 2: Check for 'nan'\n",
    "    elif string=='nan':\n",
    "        return 'NULL'\n",
    "    else:\n",
    "        return 'VALID'"
   ]
  },
  {
   "cell_type": "code",
   "execution_count": 6,
   "metadata": {
    "collapsed": false
   },
   "outputs": [
    {
     "name": "stdout",
     "output_type": "stream",
     "text": [
      "[['VALID', 'VALID', 'VALID', 'NULL', 'NULL', 'VALID', 'VALID', 'VALID', 'VALID', 'VALID', 'VALID', 'VALID', 'VALID', 'VALID', 'VALID', 'VALID', 'VALID', 'NULL', 'NULL', 'VALID', 'VALID', 'VALID', 'VALID', 'VALID']]\n"
     ]
    }
   ],
   "source": [
    "# Example: Check row\n",
    "NULL_TABLE = lines.map(lambda line:[checkNull(x) for x in line])\n",
    "print(NULL_TABLE.take(1))"
   ]
  },
  {
   "cell_type": "code",
   "execution_count": 18,
   "metadata": {
    "collapsed": false
   },
   "outputs": [
    {
     "data": {
      "text/plain": [
       "[u'113']"
      ]
     },
     "execution_count": 18,
     "metadata": {},
     "output_type": "execute_result"
    }
   ],
   "source": [
    "lines.map(lambda x:x[colname2idx['KY_CD']]).take(1)"
   ]
  },
  {
   "cell_type": "markdown",
   "metadata": {},
   "source": [
    "# Date Format Checking\n",
    "Format Reference: http://strftime.org/"
   ]
  },
  {
   "cell_type": "code",
   "execution_count": 15,
   "metadata": {
    "collapsed": false
   },
   "outputs": [
    {
     "data": {
      "text/plain": [
       "1992"
      ]
     },
     "execution_count": 15,
     "metadata": {},
     "output_type": "execute_result"
    }
   ],
   "source": [
    "testdate = '10/09/1992'\n",
    "testdate = datetime.datetime.strptime(testdate,date_format)\n",
    "testtime = '14:24:32'"
   ]
  },
  {
   "cell_type": "code",
   "execution_count": 16,
   "metadata": {
    "collapsed": false
   },
   "outputs": [],
   "source": [
    "date_format = '%m/%d/%Y'\n",
    "time_format = '%H:%M:%S'\n",
    "# If date is in wrong format it would not be sucessfully converted to datetime object.\n",
    "def checkDate(line,date_format):\n",
    "    try:\n",
    "        date = datetime.datetime.strptime(line,date_format)\n",
    "        if (date.year <=2015)&(date.year>=2005):\n",
    "            return 'VALID'\n",
    "        else:\n",
    "            return 'INVALID'\n",
    "    except:\n",
    "        return 'INVALID'\n",
    "def checkTime(line,time_format):\n",
    "    try:\n",
    "        datetime.datetime.strptime(line,time_format)\n",
    "        return 'VALID'\n",
    "    except:\n",
    "        return 'INVALID'\n",
    "########################################\n",
    "# Example\n",
    "CMPLNT_FR_DT = lines.map(lambda x: x[colname2idx['CMPLNT_FR_DT']])\n",
    "CMPLNT_FR_DT = CMPLNT_FR_DT.map(lambda x: checkDate(x,date_format))"
   ]
  },
  {
   "cell_type": "code",
   "execution_count": 17,
   "metadata": {
    "collapsed": false
   },
   "outputs": [
    {
     "data": {
      "text/plain": [
       "defaultdict(int,\n",
       "            {'INVALID/FORMAT': 655, 'INVALID/Year': 18782, 'VALID': 5081794})"
      ]
     },
     "execution_count": 17,
     "metadata": {},
     "output_type": "execute_result"
    }
   ],
   "source": [
    "# Testing Check Date Method\n",
    "CMPLNT_FR_DT.countByValue()"
   ]
  },
  {
   "cell_type": "markdown",
   "metadata": {},
   "source": [
    "# Regular Expression Checker\n",
    "Regular Expression Reference: https://docs.python.org/2/library/re.html"
   ]
  },
  {
   "cell_type": "code",
   "execution_count": 7,
   "metadata": {
    "collapsed": false
   },
   "outputs": [],
   "source": [
    "# Example Checking KY_CD 3-digit code\n",
    "regex_3_digits = '^\\d{3}$'"
   ]
  },
  {
   "cell_type": "code",
   "execution_count": 8,
   "metadata": {
    "collapsed": true
   },
   "outputs": [],
   "source": [
    "#Require re package\n",
    "def checkRegex(line,regex):\n",
    "    # Input\n",
    "    # line: a string for check\n",
    "    # regex: regular expression pattern\n",
    "    match = re.match(regex,line)\n",
    "    if match:\n",
    "        return 'VALID'\n",
    "    else:\n",
    "        return 'INVALID'"
   ]
  },
  {
   "cell_type": "code",
   "execution_count": 12,
   "metadata": {
    "collapsed": false
   },
   "outputs": [
    {
     "name": "stdout",
     "output_type": "stream",
     "text": [
      "INVALID\n",
      "VALID\n"
     ]
    }
   ],
   "source": [
    "# Show that it actually work\n",
    "print checkRegex('1234',regex_3_digits)\n",
    "print checkRegex('123',regex_3_digits)"
   ]
  },
  {
   "cell_type": "code",
   "execution_count": 13,
   "metadata": {
    "collapsed": false
   },
   "outputs": [
    {
     "data": {
      "text/plain": [
       "defaultdict(int, {'VALID': 5101231})"
      ]
     },
     "execution_count": 13,
     "metadata": {},
     "output_type": "execute_result"
    }
   ],
   "source": [
    "#Example : Checking KY_CD VALADITY\n",
    "KY_CD = lines.map(lambda x:x[colname2idx['KY_CD']]).map(lambda x: checkRegex(x,regex_3_digits))\n",
    "KY_CD.countByValue()"
   ]
  },
  {
   "cell_type": "markdown",
   "metadata": {},
   "source": [
    "# Columns Cleaning Logic"
   ]
  },
  {
   "cell_type": "code",
   "execution_count": 72,
   "metadata": {
    "collapsed": false
   },
   "outputs": [
    {
     "name": "stdout",
     "output_type": "stream",
     "text": [
      "[u'CMPLNT_FR_DT', u'CMPLNT_FR_TM', u'CMPLNT_TO_DT', u'CMPLNT_TO_TM']\n"
     ]
    }
   ],
   "source": [
    "print schemas[1:5]"
   ]
  },
  {
   "cell_type": "markdown",
   "metadata": {},
   "source": [
    "## CMPLNT_TO_DT and CMPLNT_TO_TM\n",
    "- Check Null for both filed\n",
    "- Combine Date and Time\n",
    "- Check date format using checkDate() in utilities.py\n",
    "- Check whether it is later than CMPLNT_FR_DT+CMPLNT_FR_TM"
   ]
  },
  {
   "cell_type": "code",
   "execution_count": 85,
   "metadata": {
    "collapsed": false
   },
   "outputs": [],
   "source": [
    "%run ./crime-data-process/code/utilities.py"
   ]
  },
  {
   "cell_type": "code",
   "execution_count": 59,
   "metadata": {
    "collapsed": false
   },
   "outputs": [
    {
     "data": {
      "text/plain": [
       "'%m/%d/%Y %H:%M:%S'"
      ]
     },
     "execution_count": 59,
     "metadata": {},
     "output_type": "execute_result"
    }
   ],
   "source": [
    "datetime_format = date_format+' '+time_format\n",
    "datetime_format"
   ]
  },
  {
   "cell_type": "code",
   "execution_count": 92,
   "metadata": {
    "collapsed": false
   },
   "outputs": [],
   "source": [
    "# Implementation\n",
    "# check_CMPLNT_TO check both CMPLNT_TO_DT and CMPLNT_TO_TM at the same time\n",
    "# It return the validity of both field\n",
    "def check_FR_TO(from_date,from_time,to_date,to_time,date_format,time_format):\n",
    "    ###########\n",
    "    #Null check\n",
    "    ###########\n",
    "    from_nullity = [checkNull(from_date),checkNull(from_time)]\n",
    "    to_nullity = [checkNull(to_date),checkNull(to_time)]\n",
    "    # If from datetime is NULL, return all NULL\n",
    "    if 'NULL' in from_nullity:\n",
    "        return ['NULL','NULL','NULL','NULL']\n",
    "    elif 'NULL' in to_nullity:\n",
    "        if 'INVALID' in [checkDate(from_date),checkTime(from_time)]:\n",
    "            return ['INVALID','INVALID','NULL','NULL']\n",
    "        else:\n",
    "            return ['VALID','VALID','NULL','NULL']\n",
    "    #Check for invalidity\n",
    "    #If any field format is invalid return invalid for both\n",
    "    elif ('INVALID' in [checkDate(x) for x in [from_date,to_date]])|('INVALID' in [checkTime(x) for x in [from_time,to_time]]):\n",
    "        return ['INVALID','INVALID','INVALID','INVALID']    \n",
    "    else:\n",
    "        ###Start combining\n",
    "        #Define datetime format\n",
    "        datetime_format = date_format+' '+time_format\n",
    "        from_datetime = datetime.datetime.strptime(from_date+' '+from_time,datetime_format)\n",
    "        to_datetime = datetime.datetime.strptime(from_date+' '+from_time,datetime_format)\n",
    "        if from_datetime <= to_datetime:\n",
    "            return ['VALID','VALID','VALID','VALID']\n",
    "        else:\n",
    "            # Or ['INVALID','INVALID','INVALID','INVALID']? Open for discussion\n",
    "            \n",
    "            return ['VALID','VALID','INVALID','INVALID']        "
   ]
  },
  {
   "cell_type": "code",
   "execution_count": 93,
   "metadata": {
    "collapsed": false
   },
   "outputs": [
    {
     "name": "stdout",
     "output_type": "stream",
     "text": [
      "['INVALID', 'INVALID', 'INVALID', 'INVALID']\n",
      "['NULL', 'NULL', 'NULL', 'NULL']\n",
      "['INVALID', 'INVALID', 'NULL', 'NULL']\n"
     ]
    }
   ],
   "source": [
    "# Testing\n",
    "print check_FR_TO('10/09/1992','12:00:00','10/09/1991','12:00:00',date_format,time_format)\n",
    "print check_FR_TO('','','10/09/1991','12:00:00',date_format,time_format)\n",
    "print check_FR_TO('10/09/1991','12:00:00','','',date_format,time_format)"
   ]
  },
  {
   "cell_type": "code",
   "execution_count": 94,
   "metadata": {
    "collapsed": false
   },
   "outputs": [],
   "source": [
    "from_to_tuple = lines.map(lambda x:x[1:5])\n",
    "checkResults_from_to = from_to_tuple.map(lambda x: check_FR_TO(x[0],x[1],x[2],x[3],date_format,time_format))"
   ]
  }
 ],
 "metadata": {
  "anaconda-cloud": {},
  "kernelspec": {
   "display_name": "Python [conda root]",
   "language": "python",
   "name": "conda-root-py"
  },
  "language_info": {
   "codemirror_mode": {
    "name": "ipython",
    "version": 2
   },
   "file_extension": ".py",
   "mimetype": "text/x-python",
   "name": "python",
   "nbconvert_exporter": "python",
   "pygments_lexer": "ipython2",
   "version": "2.7.12"
  }
 },
 "nbformat": 4,
 "nbformat_minor": 1
}
