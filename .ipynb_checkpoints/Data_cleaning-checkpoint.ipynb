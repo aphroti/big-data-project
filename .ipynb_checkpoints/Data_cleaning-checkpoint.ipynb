{
 "cells": [
  {
   "cell_type": "code",
   "execution_count": 1,
   "metadata": {
    "collapsed": false
   },
   "outputs": [],
   "source": [
    "# Loading crime csv to RDD\n",
    "# Replace with your directory\n",
    "#crime_csv = sc.textFile('file:/Users/zhuorulin/Documents/DataScience/datasets/crime.csv',use_unicode=False)\n",
    "crime_csv = sc.textFile('file:/Users/zhuorulin/Documents/DataScience/datasets/NYPD_Complaint_Data_Historic.csv',use_unicode=False)"
   ]
  },
  {
   "cell_type": "code",
   "execution_count": 19,
   "metadata": {
    "collapsed": false
   },
   "outputs": [],
   "source": [
    "# Convert csv to DataFrame\n",
    "from csv import reader # Warning: csv.reader does not support unicode decode\n",
    "from pyspark.sql import SQLContext\n",
    "from collections import defaultdict\n",
    "import datetime\n",
    "import re"
   ]
  },
  {
   "cell_type": "code",
   "execution_count": 3,
   "metadata": {
    "collapsed": false
   },
   "outputs": [],
   "source": [
    "# Use csv.reader to read raw binary\n",
    "lines_rdd = crime_csv.mapPartitions(reader)\\\n",
    ".map(lambda line: [x.decode('utf-8') for x in line] )# Decode with utf-8 codec\n",
    "# store columns values. Also a search table for searching column name using index\n",
    "schemas = lines_rdd.take(1)[0]\n",
    "# filter out first row\n",
    "lines = lines_rdd.filter(lambda x: x!=schemas)"
   ]
  },
  {
   "cell_type": "code",
   "execution_count": 4,
   "metadata": {
    "collapsed": false
   },
   "outputs": [
    {
     "name": "stdout",
     "output_type": "stream",
     "text": [
      "3\n"
     ]
    }
   ],
   "source": [
    "# This dict makes it easier to search for column index using column name\n",
    "colname2idx = defaultdict()\n",
    "for idx,colname in enumerate(schemas):\n",
    "    colname2idx[colname] = idx\n",
    "# Example\n",
    "print(colname2idx['CMPLNT_TO_DT'])"
   ]
  },
  {
   "cell_type": "markdown",
   "metadata": {},
   "source": [
    "# Null Checking Global"
   ]
  },
  {
   "cell_type": "code",
   "execution_count": 5,
   "metadata": {
    "collapsed": true
   },
   "outputs": [],
   "source": [
    "def checkNull(string):\n",
    "    #Assume Unicode String\n",
    "    # Step 1: Check for length 0 i.e '' field\n",
    "    if len(string)==0:\n",
    "        return 'NULL'\n",
    "    # Step 2: Check for 'nan'\n",
    "    elif string=='nan':\n",
    "        return 'NULL'\n",
    "    else:\n",
    "        return 'VALID'"
   ]
  },
  {
   "cell_type": "code",
   "execution_count": 6,
   "metadata": {
    "collapsed": false
   },
   "outputs": [
    {
     "name": "stdout",
     "output_type": "stream",
     "text": [
      "[['VALID', 'VALID', 'VALID', 'NULL', 'NULL', 'VALID', 'VALID', 'VALID', 'VALID', 'VALID', 'VALID', 'VALID', 'VALID', 'VALID', 'VALID', 'VALID', 'VALID', 'NULL', 'NULL', 'VALID', 'VALID', 'VALID', 'VALID', 'VALID']]\n"
     ]
    }
   ],
   "source": [
    "# Example: Check row\n",
    "NULL_TABLE = lines.map(lambda line:[checkNull(x) for x in line])\n",
    "print(NULL_TABLE.take(1))"
   ]
  },
  {
   "cell_type": "code",
   "execution_count": 18,
   "metadata": {
    "collapsed": false
   },
   "outputs": [
    {
     "data": {
      "text/plain": [
       "[u'113']"
      ]
     },
     "execution_count": 18,
     "metadata": {},
     "output_type": "execute_result"
    }
   ],
   "source": [
    "lines.map(lambda x:x[colname2idx['KY_CD']]).take(1)"
   ]
  },
  {
   "cell_type": "markdown",
   "metadata": {},
   "source": [
    "# Date Cleaning\n",
    "Format Reference: http://strftime.org/"
   ]
  },
  {
   "cell_type": "code",
   "execution_count": 15,
   "metadata": {
    "collapsed": false
   },
   "outputs": [
    {
     "data": {
      "text/plain": [
       "1992"
      ]
     },
     "execution_count": 15,
     "metadata": {},
     "output_type": "execute_result"
    }
   ],
   "source": [
    "testdate = '10/09/1992'\n",
    "testdate = datetime.datetime.strptime(testdate,date_format)\n",
    "testtime = '14:24:32'"
   ]
  },
  {
   "cell_type": "code",
   "execution_count": 16,
   "metadata": {
    "collapsed": false
   },
   "outputs": [],
   "source": [
    "date_format = '%m/%d/%Y'\n",
    "time_format = '%H:%M:%S'\n",
    "# If date is in wrong format it would not be sucessfully converted to datetime object.\n",
    "def checkDate(line,date_format):\n",
    "    try:\n",
    "        date = datetime.datetime.strptime(line,date_format)\n",
    "        if (date.year <=2015)&(date.year>=2005):\n",
    "            return 'VALID'\n",
    "        else:\n",
    "            return 'INVALID/Year'\n",
    "    except:\n",
    "        return 'INVALID/FORMAT'\n",
    "def checkTime(line,time_format):\n",
    "    try:\n",
    "        datetime.datetime.strptime(line,time_format)\n",
    "        return 'VALID'\n",
    "    except:\n",
    "        return 'INVALID/Format'\n",
    "########################################\n",
    "# Example\n",
    "CMPLNT_FR_DT = lines.map(lambda x: x[colname2idx['CMPLNT_FR_DT']])\n",
    "CMPLNT_FR_DT = CMPLNT_FR_DT.map(lambda x: checkDate(x,date_format))"
   ]
  },
  {
   "cell_type": "code",
   "execution_count": 17,
   "metadata": {
    "collapsed": false
   },
   "outputs": [
    {
     "data": {
      "text/plain": [
       "defaultdict(int,\n",
       "            {'INVALID/FORMAT': 655, 'INVALID/Year': 18782, 'VALID': 5081794})"
      ]
     },
     "execution_count": 17,
     "metadata": {},
     "output_type": "execute_result"
    }
   ],
   "source": [
    "# Testing Check Date Method\n",
    "CMPLNT_FR_DT.countByValue()"
   ]
  },
  {
   "cell_type": "markdown",
   "metadata": {},
   "source": [
    "# Regular Expression Cleaning\n",
    "Reference: https://docs.python.org/2/library/re.html"
   ]
  },
  {
   "cell_type": "code",
   "execution_count": 216,
   "metadata": {
    "collapsed": false
   },
   "outputs": [],
   "source": [
    "regex_3_digits = '^\\d{3}$'"
   ]
  },
  {
   "cell_type": "code",
   "execution_count": 256,
   "metadata": {
    "collapsed": true
   },
   "outputs": [],
   "source": [
    "#Require re package\n",
    "def checkRegex(line,regex):\n",
    "    # Input\n",
    "    # line: a string for check\n",
    "    # regex: regular expression pattern\n",
    "    match = re.match(regex,line)\n",
    "    if match:\n",
    "        return 'VALID'\n",
    "    else:\n",
    "        return 'INVALID'"
   ]
  },
  {
   "cell_type": "code",
   "execution_count": 257,
   "metadata": {
    "collapsed": false
   },
   "outputs": [
    {
     "data": {
      "text/plain": [
       "defaultdict(int, {'VALID': 5101231})"
      ]
     },
     "execution_count": 257,
     "metadata": {},
     "output_type": "execute_result"
    }
   ],
   "source": [
    "#KY_CD consists of only 3-digits\n",
    "KY_CD = lines.map(lambda x:x[colname2idx['KY_CD']]).map(lambda x: checkRegex(x,regex_3_digits))\n",
    "KY_CD.countByValue()"
   ]
  },
  {
   "cell_type": "code",
   "execution_count": 260,
   "metadata": {
    "collapsed": false
   },
   "outputs": [
    {
     "data": {
      "text/plain": [
       "'INVALID'"
      ]
     },
     "execution_count": 260,
     "metadata": {},
     "output_type": "execute_result"
    }
   ],
   "source": [
    "checkRegex('11o',regex_3_digits)"
   ]
  },
  {
   "cell_type": "code",
   "execution_count": null,
   "metadata": {
    "collapsed": true
   },
   "outputs": [],
   "source": [
    "%%writefile ./crime-data-process/code/utilities.py\n",
    "from collections import defaultdict\n",
    "import datetime\n",
    "import re\n",
    "##########\n",
    "#Some Global Variables\n",
    "##########\n",
    "date_format = '%m/%d/%Y'\n",
    "time_format = '%H:%M:%S'\n",
    "regex_3_digits = '^\\d{3}$'\n",
    "\n",
    "######Functions\n",
    "\n",
    "def checkDate(line,date_format):\n",
    "    try:\n",
    "        date = datetime.datetime.strptime(line,date_format)\n",
    "        if (date.year <=2015)&(date.year>=2005):\n",
    "            return 'VALID'\n",
    "        else:\n",
    "            return 'INVALID/Year'\n",
    "    except:\n",
    "        return 'INVALID/FORMAT'\n",
    "    \n",
    "def checkTime(line,time_format):\n",
    "    try:\n",
    "        datetime.datetime.strptime(line,time_format)\n",
    "        return 'VALID'\n",
    "    except:\n",
    "        return 'INVALID/Format'\n",
    "    \n",
    "def checkRegex(line,regex):\n",
    "    # Input\n",
    "    # line: a string for check\n",
    "    # regex: regular expression pattern\n",
    "    match = re.match(regex,line)\n",
    "    if match:\n",
    "        return 'VALID'\n",
    "    else:\n",
    "        return 'INVALID'"
   ]
  },
  {
   "cell_type": "markdown",
   "metadata": {},
   "source": [
    "# Data Frame Actions"
   ]
  },
  {
   "cell_type": "code",
   "execution_count": 130,
   "metadata": {
    "collapsed": false
   },
   "outputs": [
    {
     "name": "stdout",
     "output_type": "stream",
     "text": [
      "root\n",
      " |-- CMPLNT_NUM: string (nullable = true)\n",
      " |-- CMPLNT_FR_DT: string (nullable = true)\n",
      " |-- CMPLNT_FR_TM: string (nullable = true)\n",
      " |-- CMPLNT_TO_DT: string (nullable = true)\n",
      " |-- CMPLNT_TO_TM: string (nullable = true)\n",
      " |-- RPT_DT: string (nullable = true)\n",
      " |-- KY_CD: string (nullable = true)\n",
      " |-- OFNS_DESC: string (nullable = true)\n",
      " |-- PD_CD: string (nullable = true)\n",
      " |-- PD_DESC: string (nullable = true)\n",
      " |-- CRM_ATPT_CPTD_CD: string (nullable = true)\n",
      " |-- LAW_CAT_CD: string (nullable = true)\n",
      " |-- JURIS_DESC: string (nullable = true)\n",
      " |-- BORO_NM: string (nullable = true)\n",
      " |-- ADDR_PCT_CD: string (nullable = true)\n",
      " |-- LOC_OF_OCCUR_DESC: string (nullable = true)\n",
      " |-- PREM_TYP_DESC: string (nullable = true)\n",
      " |-- PARKS_NM: string (nullable = true)\n",
      " |-- HADEVELOPT: string (nullable = true)\n",
      " |-- X_COORD_CD: string (nullable = true)\n",
      " |-- Y_COORD_CD: string (nullable = true)\n",
      " |-- Latitude: string (nullable = true)\n",
      " |-- Longitude: string (nullable = true)\n",
      " |-- Lat_Lon: string (nullable = true)\n",
      "\n"
     ]
    }
   ],
   "source": [
    "# Converted to DataFrame\n",
    "df = lines.toDF(schemas)\n",
    "# Print out schemas to remind filed names\n",
    "df.printSchema()"
   ]
  },
  {
   "cell_type": "code",
   "execution_count": 27,
   "metadata": {
    "collapsed": false
   },
   "outputs": [],
   "source": [
    "# Create sql context to interact easier\n",
    "sqlContext = SQLContext(sc)\n",
    "df.registerTempTable('crime')\n",
    "# USE sqlContext.sql(<sql code>) to interact with dataframe"
   ]
  },
  {
   "cell_type": "code",
   "execution_count": 9,
   "metadata": {
    "collapsed": true
   },
   "outputs": [],
   "source": [
    "# Or using data frame method\n",
    "created_date = df.select('Created Date')"
   ]
  }
 ],
 "metadata": {
  "anaconda-cloud": {},
  "kernelspec": {
   "display_name": "Python [conda root]",
   "language": "python",
   "name": "conda-root-py"
  },
  "language_info": {
   "codemirror_mode": {
    "name": "ipython",
    "version": 2
   },
   "file_extension": ".py",
   "mimetype": "text/x-python",
   "name": "python",
   "nbconvert_exporter": "python",
   "pygments_lexer": "ipython2",
   "version": "2.7.12"
  }
 },
 "nbformat": 4,
 "nbformat_minor": 1
}
