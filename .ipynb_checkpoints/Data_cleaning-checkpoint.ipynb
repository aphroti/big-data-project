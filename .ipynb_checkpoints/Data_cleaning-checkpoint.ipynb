{
 "cells": [
  {
   "cell_type": "code",
   "execution_count": 88,
   "metadata": {
    "collapsed": false
   },
   "outputs": [],
   "source": [
    "# Loading crime csv to RDD\n",
    "# Replace with your directory\n",
    "crime_csv = sc.textFile('file:/Users/zhuorulin/Documents/DataScience/datasets/crime.csv',use_unicode=False)"
   ]
  },
  {
   "cell_type": "code",
   "execution_count": 82,
   "metadata": {
    "collapsed": false
   },
   "outputs": [],
   "source": [
    "# Convert csv to DataFrame\n",
    "from csv import reader # Warning: csv.reader does not support unicode decode\n",
    "from pyspark.sql import SQLContext\n",
    "from collections import defaultdict\n",
    "import datetime"
   ]
  },
  {
   "cell_type": "code",
   "execution_count": 99,
   "metadata": {
    "collapsed": false
   },
   "outputs": [],
   "source": [
    "# Use csv.reader to read raw binary\n",
    "lines_rdd = crime_csv.mapPartitions(reader)\\\n",
    ".map(lambda line: [x.decode('utf-8') for x in line] )# Decode with utf-8 codec\n",
    "# store columns values. Also a search table for searching column name using index\n",
    "schemas = lines_rdd.take(1)[0]\n",
    "# filter out first row\n",
    "lines = lines_rdd.filter(lambda x: x!=schemas)"
   ]
  },
  {
   "cell_type": "code",
   "execution_count": 104,
   "metadata": {
    "collapsed": false
   },
   "outputs": [
    {
     "name": "stdout",
     "output_type": "stream",
     "text": [
      "3\n"
     ]
    }
   ],
   "source": [
    "# This dict makes it easier to search for column index using column name\n",
    "colname2idx = defaultdict()\n",
    "for idx,colname in enumerate(schemas):\n",
    "    colname2idx[colname] = idx\n",
    "# Example\n",
    "print(colname2idx['Agency'])"
   ]
  },
  {
   "cell_type": "markdown",
   "metadata": {},
   "source": [
    "# Null Checking"
   ]
  },
  {
   "cell_type": "code",
   "execution_count": 107,
   "metadata": {
    "collapsed": true
   },
   "outputs": [],
   "source": [
    "def checkNull(string):\n",
    "    #Assume Unicode String\n",
    "    # Step 1: Check for length 0 i.e '' field\n",
    "    if len(string)==0:\n",
    "        return 'INVALID'\n",
    "    # Step 2: Check for 'nan'\n",
    "    elif string=='nan':\n",
    "        return 'INVALID'\n",
    "    else:\n",
    "        return 'VALID'"
   ]
  },
  {
   "cell_type": "code",
   "execution_count": 115,
   "metadata": {
    "collapsed": false
   },
   "outputs": [
    {
     "name": "stdout",
     "output_type": "stream",
     "text": [
      "[['VALID', 'VALID', 'VALID', 'VALID', 'VALID', 'VALID', 'VALID', 'VALID', 'VALID', 'VALID', 'VALID', 'VALID', 'VALID', 'INVALID', 'INVALID', 'VALID', 'VALID', 'INVALID', 'VALID', 'VALID', 'VALID', 'VALID', 'VALID', 'VALID', 'VALID', 'VALID', 'VALID', 'VALID', 'VALID', 'VALID', 'VALID', 'VALID', 'VALID', 'VALID', 'VALID', 'VALID', 'VALID', 'VALID', 'VALID', 'INVALID', 'INVALID', 'INVALID', 'INVALID', 'INVALID', 'INVALID', 'INVALID', 'INVALID', 'INVALID', 'INVALID', 'INVALID', 'VALID', 'VALID', 'VALID']]\n"
     ]
    }
   ],
   "source": [
    "# Example: Check row\n",
    "NULL_TABLE = lines.map(lambda line:[checkNull(x) for x in line])\n",
    "print(NULL_TABLE.take(1))"
   ]
  },
  {
   "cell_type": "markdown",
   "metadata": {},
   "source": [
    "# Date Cleaning Method\n",
    "Format Reference: http://strftime.org/"
   ]
  },
  {
   "cell_type": "code",
   "execution_count": 102,
   "metadata": {
    "collapsed": false
   },
   "outputs": [],
   "source": [
    "date_format = '%m/%d/%Y %I:%M:%S %p'\n",
    "# If date is in wrong format it would not be sucessfully converted to datetime object.\n",
    "def checkDate(line,date_format):\n",
    "    try:\n",
    "        datetime.datetime.strptime(line,date_format)\n",
    "        return 'VALID'\n",
    "    except:\n",
    "        return 'INVALID'\n",
    "\n",
    "########################################\n",
    "# Example\n",
    "Created_Date = lines.map(lambda x: x[colname2idx['Created Date']])\n",
    "# Change encoder to utf-8\n",
    "# Created_Date = Created_Date.map(lambda x: x).map(lambda x: x.encode('latin-1').strip())\n",
    "Created_Date_validity = Created_Date.map(lambda x: checkDate(x,date_format))"
   ]
  },
  {
   "cell_type": "code",
   "execution_count": 106,
   "metadata": {
    "collapsed": false
   },
   "outputs": [],
   "source": [
    "#Created_Date_validity.countByValue()\n",
    "# Should return defaultdict(int, {'VALID': 1413705})"
   ]
  },
  {
   "cell_type": "markdown",
   "metadata": {},
   "source": [
    "# Data Frame Actions"
   ]
  },
  {
   "cell_type": "code",
   "execution_count": 105,
   "metadata": {
    "collapsed": false
   },
   "outputs": [],
   "source": [
    "# Converted to DataFrame\n",
    "df = lines.toDF(schemas)\n",
    "# Print out schemas to remind filed names\n",
    "#df.printSchema()"
   ]
  },
  {
   "cell_type": "code",
   "execution_count": 27,
   "metadata": {
    "collapsed": false
   },
   "outputs": [],
   "source": [
    "# Create sql context to interact easier\n",
    "sqlContext = SQLContext(sc)\n",
    "df.registerTempTable('crime')\n",
    "# USE sqlContext.sql(<sql code>) to interact with dataframe"
   ]
  },
  {
   "cell_type": "code",
   "execution_count": 9,
   "metadata": {
    "collapsed": true
   },
   "outputs": [],
   "source": [
    "# Or using data frame method\n",
    "created_date = df.select('Created Date')"
   ]
  }
 ],
 "metadata": {
  "anaconda-cloud": {},
  "kernelspec": {
   "display_name": "Python [conda root]",
   "language": "python",
   "name": "conda-root-py"
  },
  "language_info": {
   "codemirror_mode": {
    "name": "ipython",
    "version": 2
   },
   "file_extension": ".py",
   "mimetype": "text/x-python",
   "name": "python",
   "nbconvert_exporter": "python",
   "pygments_lexer": "ipython2",
   "version": "2.7.12"
  }
 },
 "nbformat": 4,
 "nbformat_minor": 1
}
