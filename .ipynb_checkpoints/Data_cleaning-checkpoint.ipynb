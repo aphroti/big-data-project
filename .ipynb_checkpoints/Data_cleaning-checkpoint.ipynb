{
 "cells": [
  {
   "cell_type": "code",
   "execution_count": 2,
   "metadata": {
    "collapsed": false
   },
   "outputs": [],
   "source": [
    "# Loading crime csv to RDD\n",
    "# Replace with your directory\n",
    "crime_csv = sc.textFile('file:/Users/zhuorulin/Documents/DataScience/datasets/NYPD_Complaint_Data_Historic.csv',use_unicode=False)"
   ]
  },
  {
   "cell_type": "code",
   "execution_count": 21,
   "metadata": {
    "collapsed": false
   },
   "outputs": [],
   "source": [
    "# Convert csv to DataFrame\n",
    "from csv import reader # Warning: csv.reader does not support unicode decode\n",
    "from pyspark.sql import SQLContext\n",
    "from collections import defaultdict\n",
    "import datetime\n",
    "import re"
   ]
  },
  {
   "cell_type": "code",
   "execution_count": 4,
   "metadata": {
    "collapsed": false
   },
   "outputs": [],
   "source": [
    "# Use csv.reader to read raw binary\n",
    "lines_rdd = crime_csv.mapPartitions(reader)\\\n",
    ".map(lambda line: [x.decode('utf-8') for x in line] )# Decode with utf-8 codec\n",
    "# store columns values. Also a search table for searching column name using index\n",
    "schemas = lines_rdd.take(1)[0]\n",
    "# filter out first row\n",
    "lines = lines_rdd.filter(lambda x: x!=schemas)"
   ]
  },
  {
   "cell_type": "code",
   "execution_count": 5,
   "metadata": {
    "collapsed": false
   },
   "outputs": [
    {
     "name": "stdout",
     "output_type": "stream",
     "text": [
      "3\n"
     ]
    }
   ],
   "source": [
    "# This dict makes it easier to search for column index using column name\n",
    "colname2idx = defaultdict()\n",
    "for idx,colname in enumerate(schemas):\n",
    "    colname2idx[colname] = idx\n",
    "# Example\n",
    "print(colname2idx['CMPLNT_TO_DT'])"
   ]
  },
  {
   "cell_type": "markdown",
   "metadata": {},
   "source": [
    "# Global Null Checking method"
   ]
  },
  {
   "cell_type": "code",
   "execution_count": 6,
   "metadata": {
    "collapsed": true
   },
   "outputs": [],
   "source": [
    "def checkNull(string):\n",
    "    #Assume Unicode String\n",
    "    # Step 1: Check for length 0 i.e '' field\n",
    "    if len(string)==0:\n",
    "        return 'NULL'\n",
    "    # Step 2: Check for 'nan'\n",
    "    elif string=='nan':\n",
    "        return 'NULL'\n",
    "    else:\n",
    "        return 'VALID'"
   ]
  },
  {
   "cell_type": "code",
   "execution_count": 6,
   "metadata": {
    "collapsed": false
   },
   "outputs": [
    {
     "name": "stdout",
     "output_type": "stream",
     "text": [
      "[['VALID', 'VALID', 'VALID', 'NULL', 'NULL', 'VALID', 'VALID', 'VALID', 'VALID', 'VALID', 'VALID', 'VALID', 'VALID', 'VALID', 'VALID', 'VALID', 'VALID', 'NULL', 'NULL', 'VALID', 'VALID', 'VALID', 'VALID', 'VALID']]\n"
     ]
    }
   ],
   "source": [
    "# Example: Check row\n",
    "NULL_TABLE = lines.map(lambda line:[checkNull(x) for x in line])\n",
    "print(NULL_TABLE.take(1))"
   ]
  },
  {
   "cell_type": "code",
   "execution_count": 18,
   "metadata": {
    "collapsed": false
   },
   "outputs": [
    {
     "data": {
      "text/plain": [
       "[u'113']"
      ]
     },
     "execution_count": 18,
     "metadata": {},
     "output_type": "execute_result"
    }
   ],
   "source": [
    "lines.map(lambda x:x[colname2idx['KY_CD']]).take(1)"
   ]
  },
  {
   "cell_type": "markdown",
   "metadata": {},
   "source": [
    "# Date Format Checking\n",
    "Format Reference: http://strftime.org/"
   ]
  },
  {
   "cell_type": "code",
   "execution_count": 15,
   "metadata": {
    "collapsed": false
   },
   "outputs": [
    {
     "data": {
      "text/plain": [
       "1992"
      ]
     },
     "execution_count": 15,
     "metadata": {},
     "output_type": "execute_result"
    }
   ],
   "source": [
    "testdate = '10/09/1992'\n",
    "testdate = datetime.datetime.strptime(testdate,date_format)\n",
    "testtime = '14:24:32'"
   ]
  },
  {
   "cell_type": "code",
   "execution_count": 16,
   "metadata": {
    "collapsed": false
   },
   "outputs": [],
   "source": [
    "date_format = '%m/%d/%Y'\n",
    "time_format = '%H:%M:%S'\n",
    "# If date is in wrong format it would not be sucessfully converted to datetime object.\n",
    "def checkDate(line,date_format):\n",
    "    try:\n",
    "        date = datetime.datetime.strptime(line,date_format)\n",
    "        if (date.year <=2015)&(date.year>=2005):\n",
    "            return 'VALID'\n",
    "        else:\n",
    "            return 'INVALID'\n",
    "    except:\n",
    "        return 'INVALID'\n",
    "def checkTime(line,time_format):\n",
    "    try:\n",
    "        datetime.datetime.strptime(line,time_format)\n",
    "        return 'VALID'\n",
    "    except:\n",
    "        return 'INVALID'\n",
    "########################################\n",
    "# Example\n",
    "CMPLNT_FR_DT = lines.map(lambda x: x[colname2idx['CMPLNT_FR_DT']])\n",
    "CMPLNT_FR_DT = CMPLNT_FR_DT.map(lambda x: checkDate(x,date_format))"
   ]
  },
  {
   "cell_type": "code",
   "execution_count": 17,
   "metadata": {
    "collapsed": false
   },
   "outputs": [
    {
     "data": {
      "text/plain": [
       "defaultdict(int,\n",
       "            {'INVALID/FORMAT': 655, 'INVALID/Year': 18782, 'VALID': 5081794})"
      ]
     },
     "execution_count": 17,
     "metadata": {},
     "output_type": "execute_result"
    }
   ],
   "source": [
    "# Testing Check Date Method\n",
    "CMPLNT_FR_DT.countByValue()"
   ]
  },
  {
   "cell_type": "markdown",
   "metadata": {},
   "source": [
    "# Regular Expression Checker\n",
    "Regular Expression Reference: https://docs.python.org/2/library/re.html"
   ]
  },
  {
   "cell_type": "code",
   "execution_count": 7,
   "metadata": {
    "collapsed": false
   },
   "outputs": [],
   "source": [
    "# Example Checking KY_CD 3-digit code\n",
    "regex_3_digits = '^\\d{3}$'"
   ]
  },
  {
   "cell_type": "code",
   "execution_count": 8,
   "metadata": {
    "collapsed": true
   },
   "outputs": [],
   "source": [
    "#Require re package\n",
    "def checkRegex(line,regex):\n",
    "    # Input\n",
    "    # line: a string for check\n",
    "    # regex: regular expression pattern\n",
    "    match = re.match(regex,line)\n",
    "    if match:\n",
    "        return 'VALID'\n",
    "    else:\n",
    "        return 'INVALID'"
   ]
  },
  {
   "cell_type": "code",
   "execution_count": 12,
   "metadata": {
    "collapsed": false
   },
   "outputs": [
    {
     "name": "stdout",
     "output_type": "stream",
     "text": [
      "INVALID\n",
      "VALID\n"
     ]
    }
   ],
   "source": [
    "# Show that it actually work\n",
    "print checkRegex('1234',regex_3_digits)\n",
    "print checkRegex('123',regex_3_digits)"
   ]
  },
  {
   "cell_type": "code",
   "execution_count": 13,
   "metadata": {
    "collapsed": false
   },
   "outputs": [
    {
     "data": {
      "text/plain": [
       "defaultdict(int, {'VALID': 5101231})"
      ]
     },
     "execution_count": 13,
     "metadata": {},
     "output_type": "execute_result"
    }
   ],
   "source": [
    "#Example : Checking KY_CD VALADITY\n",
    "KY_CD = lines.map(lambda x:x[colname2idx['KY_CD']]).map(lambda x: checkRegex(x,regex_3_digits))\n",
    "KY_CD.countByValue()"
   ]
  },
  {
   "cell_type": "markdown",
   "metadata": {},
   "source": [
    "# Columns Cleaning Logic"
   ]
  },
  {
   "cell_type": "code",
   "execution_count": 14,
   "metadata": {
    "collapsed": false
   },
   "outputs": [
    {
     "name": "stdout",
     "output_type": "stream",
     "text": [
      "[u'CMPLNT_NUM', u'CMPLNT_FR_DT', u'CMPLNT_FR_TM', u'CMPLNT_TO_DT', u'CMPLNT_TO_TM', u'RPT_DT', u'KY_CD', u'OFNS_DESC', u'PD_CD', u'PD_DESC', u'CRM_ATPT_CPTD_CD', u'LAW_CAT_CD', u'JURIS_DESC', u'BORO_NM', u'ADDR_PCT_CD', u'LOC_OF_OCCUR_DESC', u'PREM_TYP_DESC', u'PARKS_NM', u'HADEVELOPT', u'X_COORD_CD', u'Y_COORD_CD', u'Latitude', u'Longitude', u'Lat_Lon']\n"
     ]
    }
   ],
   "source": [
    "print schemas"
   ]
  },
  {
   "cell_type": "markdown",
   "metadata": {},
   "source": [
    "## CMPLNT_TO_DT and CMPLNT_TO_TM\n",
    "- Check Null for both filed\n",
    "- Combine Date and Time\n",
    "- Check date format using checkDate() in utilities.py\n",
    "- Check whether it is later than CMPLNT_FR_DT+CMPLNT_FR_TM"
   ]
  },
  {
   "cell_type": "code",
   "execution_count": 17,
   "metadata": {
    "collapsed": false
   },
   "outputs": [],
   "source": [
    "%run ./crime-data-process/code/utilities.py"
   ]
  },
  {
   "cell_type": "code",
   "execution_count": 59,
   "metadata": {
    "collapsed": false
   },
   "outputs": [
    {
     "data": {
      "text/plain": [
       "'%m/%d/%Y %H:%M:%S'"
      ]
     },
     "execution_count": 59,
     "metadata": {},
     "output_type": "execute_result"
    }
   ],
   "source": [
    "datetime_format = date_format+' '+time_format\n",
    "datetime_format"
   ]
  },
  {
   "cell_type": "code",
   "execution_count": 60,
   "metadata": {
    "collapsed": false
   },
   "outputs": [],
   "source": [
    "# Implementation\n",
    "# check_CMPLNT_TO check both CMPLNT_TO_DT and CMPLNT_TO_TM at the same time\n",
    "# It return the validity of both field\n",
    "def check_CMPLNT_TO(from_date,from_time,to_date,to_time,date_format,time_format):\n",
    "    # If from datetime is NULL, to date or time is not NULL, return NULL for both date and time (Open for discussion)\n",
    "    nullity = [checkNull(x) for x in [from_date,from_time,to_date,to_time]]\n",
    "    if 'NULL' in nullity:\n",
    "        return ['NULL','NULL']\n",
    "    elif 'INVALID' in [check]:\n",
    "        #Check for invalidity\n",
    "        #If any field is invalid return invalid for both\n",
    "        \n",
    "    else:\n",
    "        ###Start combining\n",
    "        #Define datetime format\n",
    "        datetime_format = date_format+' '+time_format\n",
    "        from_datetime\n",
    "    if ('INVALID' in validity_date)|('INVALID' in validity_time):\n",
    "        return \n",
    "    else:\n",
    "        # If Null , return NULL back\n",
    "        return 'NULL'"
   ]
  },
  {
   "cell_type": "code",
   "execution_count": 54,
   "metadata": {
    "collapsed": false
   },
   "outputs": [
    {
     "data": {
      "text/plain": [
       "'INVALID'"
      ]
     },
     "execution_count": 54,
     "metadata": {},
     "output_type": "execute_result"
    }
   ],
   "source": [
    "# Example\n",
    "check_CMPLNT_TO_DT('10/09/1992','10/08/1991',date_format)"
   ]
  },
  {
   "cell_type": "code",
   "execution_count": 55,
   "metadata": {
    "collapsed": false
   },
   "outputs": [
    {
     "data": {
      "text/plain": [
       "['NULL',\n",
       " 'NULL',\n",
       " 'NULL',\n",
       " 'NULL',\n",
       " 'VALID',\n",
       " 'VALID',\n",
       " 'NULL',\n",
       " 'VALID',\n",
       " 'VALID',\n",
       " 'VALID']"
      ]
     },
     "execution_count": 55,
     "metadata": {},
     "output_type": "execute_result"
    }
   ],
   "source": [
    "from_to_tuple = lines.map(lambda x: (x[colname2idx['CMPLNT_FR_DT']],x[colname2idx['CMPLNT_TO_DT']]))\n",
    "checkResults_CMPLNT_TO_DT = from_to_tuple.map(lambda tup: check_CMPLNT_TO_DT(tup[0],tup[1],date_format))\n",
    "checkResults_CMPLNT_TO_DT.take(10)"
   ]
  },
  {
   "cell_type": "code",
   "execution_count": 56,
   "metadata": {
    "collapsed": false
   },
   "outputs": [
    {
     "data": {
      "text/plain": [
       "defaultdict(int, {'INVALID': 14217, 'NULL': 1391478, 'VALID': 3695536})"
      ]
     },
     "execution_count": 56,
     "metadata": {},
     "output_type": "execute_result"
    }
   ],
   "source": [
    "# Summary \n",
    "checkResults_CMPLNT_TO_DT.countByValue()"
   ]
  },
  {
   "cell_type": "code",
   "execution_count": null,
   "metadata": {
    "collapsed": true
   },
   "outputs": [],
   "source": []
  }
 ],
 "metadata": {
  "anaconda-cloud": {},
  "kernelspec": {
   "display_name": "Python [conda root]",
   "language": "python",
   "name": "conda-root-py"
  },
  "language_info": {
   "codemirror_mode": {
    "name": "ipython",
    "version": 2
   },
   "file_extension": ".py",
   "mimetype": "text/x-python",
   "name": "python",
   "nbconvert_exporter": "python",
   "pygments_lexer": "ipython2",
   "version": "2.7.12"
  }
 },
 "nbformat": 4,
 "nbformat_minor": 1
}
