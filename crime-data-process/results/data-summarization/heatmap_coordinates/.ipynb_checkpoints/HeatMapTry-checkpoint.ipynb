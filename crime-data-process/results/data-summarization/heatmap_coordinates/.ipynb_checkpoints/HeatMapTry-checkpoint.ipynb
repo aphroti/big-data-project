{
 "cells": [
  {
   "cell_type": "code",
   "execution_count": 1,
   "metadata": {
    "collapsed": false
   },
   "outputs": [],
   "source": [
    "import pyspark"
   ]
  },
  {
   "cell_type": "code",
   "execution_count": 2,
   "metadata": {
    "collapsed": false
   },
   "outputs": [],
   "source": [
    "import numpy as np\n",
    "import numpy.random\n",
    "import matplotlib.pyplot as plt\n",
    "from astropy.convolution import convolve\n",
    "from astropy.convolution.kernels import Gaussian2DKernel\n",
    "from csv import reader\n",
    "from collections import defaultdict\n",
    "import pandas as pd"
   ]
  },
  {
   "cell_type": "code",
   "execution_count": 3,
   "metadata": {
    "collapsed": true
   },
   "outputs": [],
   "source": [
    "coord_2015_dir = 'file:/Users/zhuorulin/Documents/DataScience/big-data-project/crime-data-process/results/heatmap_coordinates/crime_heatmap_2015_no_reduce.out'\n",
    "coord_2006_dir = 'file:/Users/zhuorulin/Documents/DataScience/big-data-project/crime-data-process/results/heatmap_coordinates/crime_heatmap_2006_no_reduce.out'\n",
    "coord_2010_dir = 'file:/Users/zhuorulin/Documents/DataScience/big-data-project/crime-data-process/results/heatmap_coordinates/crime_heatmap_2010_no_reduce.out'"
   ]
  },
  {
   "cell_type": "code",
   "execution_count": 4,
   "metadata": {
    "collapsed": false
   },
   "outputs": [],
   "source": [
    "# Loading crime csv to RDD\n",
    "# Replace with your directory\n",
    "crime_csv_2015 = sc.textFile(coord_2015_dir,use_unicode=False)\n",
    "crime_csv_2010 = sc.textFile(coord_2010_dir,use_unicode=False)\n",
    "crime_csv_2006 = sc.textFile(coord_2006_dir,use_unicode=False)"
   ]
  },
  {
   "cell_type": "code",
   "execution_count": 5,
   "metadata": {
    "collapsed": true
   },
   "outputs": [],
   "source": [
    "coordinate_to_remove = [[40.750430768,-73.989282176]]"
   ]
  },
  {
   "cell_type": "code",
   "execution_count": 5,
   "metadata": {
    "collapsed": false
   },
   "outputs": [],
   "source": [
    "coordinates = crime_csv_2015.mapPartitions(reader)\\\n",
    ".map(lambda line: [x.decode('utf-8') for x in line] )\\\n",
    ".map(lambda line: [float(line[0]),float(line[1])])\\\n",
    ".collect()\n",
    "#.filter(lambda line: line not in coordinate_to_remove)\\\n",
    "#.collect()"
   ]
  },
  {
   "cell_type": "code",
   "execution_count": 6,
   "metadata": {
    "collapsed": false
   },
   "outputs": [],
   "source": [
    "coordinates = np.array(coordinates)"
   ]
  },
  {
   "cell_type": "code",
   "execution_count": 14,
   "metadata": {
    "collapsed": false
   },
   "outputs": [],
   "source": [
    "latitude = coordinates[:,0]\n",
    "longitude = coordinates[:,1]\n",
    "heatmap, xedges, yedges = np.histogram2d(longitude, latitude,bins=2000)"
   ]
  },
  {
   "cell_type": "code",
   "execution_count": 15,
   "metadata": {
    "collapsed": false
   },
   "outputs": [
    {
     "data": {
      "text/plain": [
       "array([-74.25507554, -74.25479836, -74.25452118, ..., -73.70127104,\n",
       "       -73.70099386, -73.70071669])"
      ]
     },
     "execution_count": 15,
     "metadata": {},
     "output_type": "execute_result"
    }
   ],
   "source": [
    "heatmap.shape"
   ]
  },
  {
   "cell_type": "code",
   "execution_count": 11,
   "metadata": {
    "collapsed": true
   },
   "outputs": [],
   "source": [
    "convolve_heat = convolve(heatmap, Gaussian2DKernel(stddev=2))"
   ]
  },
  {
   "cell_type": "code",
   "execution_count": 14,
   "metadata": {
    "collapsed": false
   },
   "outputs": [
    {
     "data": {
      "text/plain": [
       "<matplotlib.text.Text at 0x1169e9fd0>"
      ]
     },
     "execution_count": 14,
     "metadata": {},
     "output_type": "execute_result"
    }
   ],
   "source": [
    "plt.figure(figsize=(200,200))\n",
    "cax = plt.imshow(convolve(heatmap, Gaussian2DKernel(stddev=2))**(0.2), interpolation='none')\n",
    "#plt.colorbar(cax)\n",
    "plt.axis('off')\n",
    "plt.title('New York City crime heat map (2015)')"
   ]
  },
  {
   "cell_type": "code",
   "execution_count": 16,
   "metadata": {
    "collapsed": false
   },
   "outputs": [],
   "source": [
    "plt.savefig('2015_heat.png')\n",
    "#plt.show()"
   ]
  },
  {
   "cell_type": "code",
   "execution_count": null,
   "metadata": {
    "collapsed": true
   },
   "outputs": [],
   "source": []
  }
 ],
 "metadata": {
  "anaconda-cloud": {},
  "kernelspec": {
   "display_name": "Python [conda root]",
   "language": "python",
   "name": "conda-root-py"
  },
  "language_info": {
   "codemirror_mode": {
    "name": "ipython",
    "version": 2
   },
   "file_extension": ".py",
   "mimetype": "text/x-python",
   "name": "python",
   "nbconvert_exporter": "python",
   "pygments_lexer": "ipython2",
   "version": "2.7.12"
  }
 },
 "nbformat": 4,
 "nbformat_minor": 1
}
